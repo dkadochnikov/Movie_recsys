{
 "cells": [
  {
   "cell_type": "code",
   "execution_count": 38,
   "id": "aab53e44",
   "metadata": {},
   "outputs": [],
   "source": [
    "import pandas as pd\n",
    "import torch.nn as nn\n",
    "import torch\n",
    "from torch.utils.data import Dataset, DataLoader\n",
    "from tqdm.auto import tqdm\n",
    "from torch.nn.utils.rnn import pad_sequence\n",
    "from torch.optim import AdamW"
   ]
  },
  {
   "cell_type": "code",
   "execution_count": 39,
   "id": "d6560b9c",
   "metadata": {},
   "outputs": [],
   "source": [
    "device = \"cuda\" if torch.cuda.is_available() else \"cpu\""
   ]
  },
  {
   "cell_type": "markdown",
   "id": "0e19edad",
   "metadata": {},
   "source": [
    "## Идея"
   ]
  },
  {
   "cell_type": "markdown",
   "id": "1ee5629a",
   "metadata": {},
   "source": [
    "Судя по тому, что в задании выделена фраза \"по эмбеддингу пользователя искать похожие эмбеддинги фильмов\", задача сводится к построению таких эмбеддингов, чтобы косинусное сходство между эмбеддингами пользователей и фильмов, которые им нравятся, было максимальным.\n",
    "\n",
    "Для фильмов нам даны их жанры, теги, проставленные пользователями, а также другой набор тегов с коэффициентами их релевантности для каждого фильма. Всю эту информацию можно использовать для построения эмбеддингов фильмов.\n",
    "Для пользователей нам даны их индексы, проставленные теги и оценки. По индексам можно строить эмбеддингов, по оценкам - считать ошибку, а с тегами сложнее. Пользователь может ставить теги совершенно разным фильмам, в том числе и тем, которые ему не понравились. Поэтому проставленные пользователем теги не дадут никакой информации о его предпочтениях.\n",
    "\n",
    "В итоге получаем следующий пайплайн. Строим эмбеддинги фильмов по всей информации, которая у нас о них есть, строим эмбеддинги по пользовательским индексам, вычисляем косинусное сходство между полученными эмбеддингами, и считаем ошибку, используя косинусное сходство и поставленную оценку."
   ]
  },
  {
   "cell_type": "markdown",
   "id": "d07f5c59",
   "metadata": {},
   "source": [
    "## Предобработка"
   ]
  },
  {
   "cell_type": "code",
   "execution_count": 40,
   "id": "4b375153",
   "metadata": {},
   "outputs": [],
   "source": [
    "tags = pd.read_csv(\"ml-latest-small/tags.csv\")\n",
    "movies = pd.read_csv(\"ml-latest-small/movies.csv\", index_col=\"movieId\")\n",
    "ratings = pd.read_csv(\"ml-latest-small/ratings.csv\")"
   ]
  },
  {
   "cell_type": "markdown",
   "id": "0a813735",
   "metadata": {},
   "source": [
    "Для обработки пользовательский тегов проведем лемматизацию и создадим словарь индексов. Так как большинство тегов однословны, нет смысла проводить какую либо токенизацию или использовать предобученную токенизацию."
   ]
  },
  {
   "cell_type": "code",
   "execution_count": 41,
   "id": "097cc9f7",
   "metadata": {},
   "outputs": [
    {
     "data": {
      "text/html": [
       "<div>\n",
       "<style scoped>\n",
       "    .dataframe tbody tr th:only-of-type {\n",
       "        vertical-align: middle;\n",
       "    }\n",
       "\n",
       "    .dataframe tbody tr th {\n",
       "        vertical-align: top;\n",
       "    }\n",
       "\n",
       "    .dataframe thead th {\n",
       "        text-align: right;\n",
       "    }\n",
       "</style>\n",
       "<table border=\"1\" class=\"dataframe\">\n",
       "  <thead>\n",
       "    <tr style=\"text-align: right;\">\n",
       "      <th></th>\n",
       "      <th>userId</th>\n",
       "      <th>movieId</th>\n",
       "      <th>tag</th>\n",
       "      <th>timestamp</th>\n",
       "    </tr>\n",
       "  </thead>\n",
       "  <tbody>\n",
       "    <tr>\n",
       "      <th>0</th>\n",
       "      <td>2</td>\n",
       "      <td>60756</td>\n",
       "      <td>funny</td>\n",
       "      <td>1445714994</td>\n",
       "    </tr>\n",
       "    <tr>\n",
       "      <th>1</th>\n",
       "      <td>2</td>\n",
       "      <td>60756</td>\n",
       "      <td>Highly quotable</td>\n",
       "      <td>1445714996</td>\n",
       "    </tr>\n",
       "    <tr>\n",
       "      <th>2</th>\n",
       "      <td>2</td>\n",
       "      <td>60756</td>\n",
       "      <td>will ferrell</td>\n",
       "      <td>1445714992</td>\n",
       "    </tr>\n",
       "    <tr>\n",
       "      <th>3</th>\n",
       "      <td>2</td>\n",
       "      <td>89774</td>\n",
       "      <td>Boxing story</td>\n",
       "      <td>1445715207</td>\n",
       "    </tr>\n",
       "    <tr>\n",
       "      <th>4</th>\n",
       "      <td>2</td>\n",
       "      <td>89774</td>\n",
       "      <td>MMA</td>\n",
       "      <td>1445715200</td>\n",
       "    </tr>\n",
       "  </tbody>\n",
       "</table>\n",
       "</div>"
      ],
      "text/plain": [
       "   userId  movieId              tag   timestamp\n",
       "0       2    60756            funny  1445714994\n",
       "1       2    60756  Highly quotable  1445714996\n",
       "2       2    60756     will ferrell  1445714992\n",
       "3       2    89774     Boxing story  1445715207\n",
       "4       2    89774              MMA  1445715200"
      ]
     },
     "execution_count": 41,
     "metadata": {},
     "output_type": "execute_result"
    }
   ],
   "source": [
    "tags.head()"
   ]
  },
  {
   "cell_type": "markdown",
   "id": "33bc963b",
   "metadata": {},
   "source": [
    "Удалим пропущенные теги"
   ]
  },
  {
   "cell_type": "code",
   "execution_count": 42,
   "id": "3d32be93",
   "metadata": {},
   "outputs": [
    {
     "data": {
      "text/plain": [
       "userId       0\n",
       "movieId      0\n",
       "tag          0\n",
       "timestamp    0\n",
       "dtype: int64"
      ]
     },
     "execution_count": 42,
     "metadata": {},
     "output_type": "execute_result"
    }
   ],
   "source": [
    "tags.isna().sum()"
   ]
  },
  {
   "cell_type": "code",
   "execution_count": 43,
   "id": "94c8b8b1",
   "metadata": {},
   "outputs": [],
   "source": [
    "tags.dropna(inplace=True)"
   ]
  },
  {
   "cell_type": "code",
   "execution_count": 44,
   "id": "24a79691",
   "metadata": {},
   "outputs": [
    {
     "data": {
      "text/plain": [
       "userId       0\n",
       "movieId      0\n",
       "tag          0\n",
       "timestamp    0\n",
       "dtype: int64"
      ]
     },
     "execution_count": 44,
     "metadata": {},
     "output_type": "execute_result"
    }
   ],
   "source": [
    "tags.isna().sum()"
   ]
  },
  {
   "cell_type": "code",
   "execution_count": 45,
   "id": "33a1be1b",
   "metadata": {},
   "outputs": [
    {
     "name": "stdout",
     "output_type": "stream",
     "text": [
      "<class 'pandas.core.frame.DataFrame'>\n",
      "RangeIndex: 3683 entries, 0 to 3682\n",
      "Data columns (total 4 columns):\n",
      " #   Column     Non-Null Count  Dtype \n",
      "---  ------     --------------  ----- \n",
      " 0   userId     3683 non-null   int64 \n",
      " 1   movieId    3683 non-null   int64 \n",
      " 2   tag        3683 non-null   object\n",
      " 3   timestamp  3683 non-null   int64 \n",
      "dtypes: int64(3), object(1)\n",
      "memory usage: 115.2+ KB\n"
     ]
    }
   ],
   "source": [
    "tags.info()"
   ]
  },
  {
   "cell_type": "markdown",
   "id": "893db8fb",
   "metadata": {},
   "source": [
    "Переводим колонку тегов из типа object в строки, приводим к нижнему регистру и применяем токенизацию. Затем создаём словарь тегов и сопоставляем с индексами. Оставим нулевой индекс для случаев, когда тег к фильму будет отсутствовать."
   ]
  },
  {
   "cell_type": "code",
   "execution_count": 46,
   "id": "985d39a2",
   "metadata": {},
   "outputs": [],
   "source": [
    "from nltk.stem.snowball import SnowballStemmer"
   ]
  },
  {
   "cell_type": "code",
   "execution_count": 47,
   "id": "ad182b95",
   "metadata": {},
   "outputs": [],
   "source": [
    "stemmer = SnowballStemmer(language=\"english\")\n",
    "tags[\"tag\"] = tags[\"tag\"].astype(str).apply(lambda x: stemmer.stem(x.lower()))"
   ]
  },
  {
   "cell_type": "code",
   "execution_count": 48,
   "id": "50d7ca78",
   "metadata": {},
   "outputs": [
    {
     "data": {
      "text/html": [
       "<div>\n",
       "<style scoped>\n",
       "    .dataframe tbody tr th:only-of-type {\n",
       "        vertical-align: middle;\n",
       "    }\n",
       "\n",
       "    .dataframe tbody tr th {\n",
       "        vertical-align: top;\n",
       "    }\n",
       "\n",
       "    .dataframe thead th {\n",
       "        text-align: right;\n",
       "    }\n",
       "</style>\n",
       "<table border=\"1\" class=\"dataframe\">\n",
       "  <thead>\n",
       "    <tr style=\"text-align: right;\">\n",
       "      <th></th>\n",
       "      <th>userId</th>\n",
       "      <th>movieId</th>\n",
       "      <th>tag</th>\n",
       "      <th>timestamp</th>\n",
       "    </tr>\n",
       "  </thead>\n",
       "  <tbody>\n",
       "    <tr>\n",
       "      <th>0</th>\n",
       "      <td>2</td>\n",
       "      <td>60756</td>\n",
       "      <td>1</td>\n",
       "      <td>1445714994</td>\n",
       "    </tr>\n",
       "    <tr>\n",
       "      <th>1</th>\n",
       "      <td>2</td>\n",
       "      <td>60756</td>\n",
       "      <td>2</td>\n",
       "      <td>1445714996</td>\n",
       "    </tr>\n",
       "    <tr>\n",
       "      <th>2</th>\n",
       "      <td>2</td>\n",
       "      <td>60756</td>\n",
       "      <td>3</td>\n",
       "      <td>1445714992</td>\n",
       "    </tr>\n",
       "    <tr>\n",
       "      <th>3</th>\n",
       "      <td>2</td>\n",
       "      <td>89774</td>\n",
       "      <td>4</td>\n",
       "      <td>1445715207</td>\n",
       "    </tr>\n",
       "    <tr>\n",
       "      <th>4</th>\n",
       "      <td>2</td>\n",
       "      <td>89774</td>\n",
       "      <td>5</td>\n",
       "      <td>1445715200</td>\n",
       "    </tr>\n",
       "  </tbody>\n",
       "</table>\n",
       "</div>"
      ],
      "text/plain": [
       "   userId  movieId  tag   timestamp\n",
       "0       2    60756    1  1445714994\n",
       "1       2    60756    2  1445714996\n",
       "2       2    60756    3  1445714992\n",
       "3       2    89774    4  1445715207\n",
       "4       2    89774    5  1445715200"
      ]
     },
     "execution_count": 48,
     "metadata": {},
     "output_type": "execute_result"
    }
   ],
   "source": [
    "unique_tags = tags[\"tag\"].unique()\n",
    "tags_to_idx = {t: i+1 for i, t in enumerate(unique_tags)}\n",
    "tags[\"tag\"] = tags[\"tag\"].map(tags_to_idx)\n",
    "tags.head()"
   ]
  },
  {
   "cell_type": "markdown",
   "id": "ce45cf83",
   "metadata": {},
   "source": [
    "Сохраним результат в pd.Series, где каждому индексу фильма будет соответстовать набор индексов пользовательских тегов."
   ]
  },
  {
   "cell_type": "code",
   "execution_count": 49,
   "id": "4715fafa",
   "metadata": {},
   "outputs": [],
   "source": [
    "tags_concatenated = tags.groupby(\"movieId\")[\"tag\"].agg(list)"
   ]
  },
  {
   "cell_type": "code",
   "execution_count": 50,
   "id": "cd46ae25",
   "metadata": {},
   "outputs": [
    {
     "data": {
      "text/plain": [
       "movieId\n",
       "1       [58, 58, 1181]\n",
       "2    [31, 32, 33, 543]\n",
       "3           [368, 369]\n",
       "5           [544, 545]\n",
       "7                [545]\n",
       "Name: tag, dtype: object"
      ]
     },
     "execution_count": 50,
     "metadata": {},
     "output_type": "execute_result"
    }
   ],
   "source": [
    "tags_concatenated.head()"
   ]
  },
  {
   "cell_type": "markdown",
   "id": "76c8dffb",
   "metadata": {},
   "source": [
    "У фильмов может быть несколько одинаковых тегов, но не будем это исправлять. Это поможет получить более точное представление фильмов."
   ]
  },
  {
   "cell_type": "markdown",
   "id": "e63fe80f",
   "metadata": {},
   "source": [
    "Полученные наборы индексов тегов добавим в датафрейм с информацией про фильмы"
   ]
  },
  {
   "cell_type": "code",
   "execution_count": 51,
   "id": "fb151906",
   "metadata": {},
   "outputs": [
    {
     "data": {
      "text/html": [
       "<div>\n",
       "<style scoped>\n",
       "    .dataframe tbody tr th:only-of-type {\n",
       "        vertical-align: middle;\n",
       "    }\n",
       "\n",
       "    .dataframe tbody tr th {\n",
       "        vertical-align: top;\n",
       "    }\n",
       "\n",
       "    .dataframe thead th {\n",
       "        text-align: right;\n",
       "    }\n",
       "</style>\n",
       "<table border=\"1\" class=\"dataframe\">\n",
       "  <thead>\n",
       "    <tr style=\"text-align: right;\">\n",
       "      <th></th>\n",
       "      <th>title</th>\n",
       "      <th>genres</th>\n",
       "    </tr>\n",
       "    <tr>\n",
       "      <th>movieId</th>\n",
       "      <th></th>\n",
       "      <th></th>\n",
       "    </tr>\n",
       "  </thead>\n",
       "  <tbody>\n",
       "    <tr>\n",
       "      <th>1</th>\n",
       "      <td>Toy Story (1995)</td>\n",
       "      <td>Adventure|Animation|Children|Comedy|Fantasy</td>\n",
       "    </tr>\n",
       "    <tr>\n",
       "      <th>2</th>\n",
       "      <td>Jumanji (1995)</td>\n",
       "      <td>Adventure|Children|Fantasy</td>\n",
       "    </tr>\n",
       "    <tr>\n",
       "      <th>3</th>\n",
       "      <td>Grumpier Old Men (1995)</td>\n",
       "      <td>Comedy|Romance</td>\n",
       "    </tr>\n",
       "    <tr>\n",
       "      <th>4</th>\n",
       "      <td>Waiting to Exhale (1995)</td>\n",
       "      <td>Comedy|Drama|Romance</td>\n",
       "    </tr>\n",
       "    <tr>\n",
       "      <th>5</th>\n",
       "      <td>Father of the Bride Part II (1995)</td>\n",
       "      <td>Comedy</td>\n",
       "    </tr>\n",
       "  </tbody>\n",
       "</table>\n",
       "</div>"
      ],
      "text/plain": [
       "                                      title  \\\n",
       "movieId                                       \n",
       "1                          Toy Story (1995)   \n",
       "2                            Jumanji (1995)   \n",
       "3                   Grumpier Old Men (1995)   \n",
       "4                  Waiting to Exhale (1995)   \n",
       "5        Father of the Bride Part II (1995)   \n",
       "\n",
       "                                              genres  \n",
       "movieId                                               \n",
       "1        Adventure|Animation|Children|Comedy|Fantasy  \n",
       "2                         Adventure|Children|Fantasy  \n",
       "3                                     Comedy|Romance  \n",
       "4                               Comedy|Drama|Romance  \n",
       "5                                             Comedy  "
      ]
     },
     "execution_count": 51,
     "metadata": {},
     "output_type": "execute_result"
    }
   ],
   "source": [
    "movies.head()"
   ]
  },
  {
   "cell_type": "code",
   "execution_count": 52,
   "id": "88b7dbe6",
   "metadata": {},
   "outputs": [],
   "source": [
    "movies[\"genres\"] = movies[\"genres\"].apply(lambda x: x.split(\"|\")) #переводим жанры из строк в списки"
   ]
  },
  {
   "cell_type": "code",
   "execution_count": 53,
   "id": "9c3db03f",
   "metadata": {},
   "outputs": [],
   "source": [
    "movies[\"tags\"] = tags_concatenated"
   ]
  },
  {
   "cell_type": "code",
   "execution_count": 54,
   "id": "703bda02",
   "metadata": {},
   "outputs": [
    {
     "data": {
      "text/plain": [
       "title        0\n",
       "genres       0\n",
       "tags      8170\n",
       "dtype: int64"
      ]
     },
     "execution_count": 54,
     "metadata": {},
     "output_type": "execute_result"
    }
   ],
   "source": [
    "movies.isna().sum()"
   ]
  },
  {
   "cell_type": "markdown",
   "id": "7e6249a7",
   "metadata": {},
   "source": [
    "Там, где теги отсутствуют, проставляем нулевые индексы"
   ]
  },
  {
   "cell_type": "code",
   "execution_count": 55,
   "id": "ad1ffbfa",
   "metadata": {},
   "outputs": [],
   "source": [
    "movies[\"tags\"] = movies[\"tags\"].apply(lambda x: [0] if not isinstance(x, list) else x)"
   ]
  },
  {
   "cell_type": "code",
   "execution_count": 56,
   "id": "768cdabe",
   "metadata": {},
   "outputs": [
    {
     "data": {
      "text/html": [
       "<div>\n",
       "<style scoped>\n",
       "    .dataframe tbody tr th:only-of-type {\n",
       "        vertical-align: middle;\n",
       "    }\n",
       "\n",
       "    .dataframe tbody tr th {\n",
       "        vertical-align: top;\n",
       "    }\n",
       "\n",
       "    .dataframe thead th {\n",
       "        text-align: right;\n",
       "    }\n",
       "</style>\n",
       "<table border=\"1\" class=\"dataframe\">\n",
       "  <thead>\n",
       "    <tr style=\"text-align: right;\">\n",
       "      <th></th>\n",
       "      <th>title</th>\n",
       "      <th>genres</th>\n",
       "      <th>tags</th>\n",
       "    </tr>\n",
       "    <tr>\n",
       "      <th>movieId</th>\n",
       "      <th></th>\n",
       "      <th></th>\n",
       "      <th></th>\n",
       "    </tr>\n",
       "  </thead>\n",
       "  <tbody>\n",
       "    <tr>\n",
       "      <th>1</th>\n",
       "      <td>Toy Story (1995)</td>\n",
       "      <td>[Adventure, Animation, Children, Comedy, Fantasy]</td>\n",
       "      <td>[58, 58, 1181]</td>\n",
       "    </tr>\n",
       "    <tr>\n",
       "      <th>2</th>\n",
       "      <td>Jumanji (1995)</td>\n",
       "      <td>[Adventure, Children, Fantasy]</td>\n",
       "      <td>[31, 32, 33, 543]</td>\n",
       "    </tr>\n",
       "    <tr>\n",
       "      <th>3</th>\n",
       "      <td>Grumpier Old Men (1995)</td>\n",
       "      <td>[Comedy, Romance]</td>\n",
       "      <td>[368, 369]</td>\n",
       "    </tr>\n",
       "    <tr>\n",
       "      <th>4</th>\n",
       "      <td>Waiting to Exhale (1995)</td>\n",
       "      <td>[Comedy, Drama, Romance]</td>\n",
       "      <td>[0]</td>\n",
       "    </tr>\n",
       "    <tr>\n",
       "      <th>5</th>\n",
       "      <td>Father of the Bride Part II (1995)</td>\n",
       "      <td>[Comedy]</td>\n",
       "      <td>[544, 545]</td>\n",
       "    </tr>\n",
       "  </tbody>\n",
       "</table>\n",
       "</div>"
      ],
      "text/plain": [
       "                                      title  \\\n",
       "movieId                                       \n",
       "1                          Toy Story (1995)   \n",
       "2                            Jumanji (1995)   \n",
       "3                   Grumpier Old Men (1995)   \n",
       "4                  Waiting to Exhale (1995)   \n",
       "5        Father of the Bride Part II (1995)   \n",
       "\n",
       "                                                    genres               tags  \n",
       "movieId                                                                        \n",
       "1        [Adventure, Animation, Children, Comedy, Fantasy]     [58, 58, 1181]  \n",
       "2                           [Adventure, Children, Fantasy]  [31, 32, 33, 543]  \n",
       "3                                        [Comedy, Romance]         [368, 369]  \n",
       "4                                 [Comedy, Drama, Romance]                [0]  \n",
       "5                                                 [Comedy]         [544, 545]  "
      ]
     },
     "execution_count": 56,
     "metadata": {},
     "output_type": "execute_result"
    }
   ],
   "source": [
    "movies.head()"
   ]
  },
  {
   "cell_type": "markdown",
   "id": "775203cb",
   "metadata": {},
   "source": [
    "## Разделение выборки"
   ]
  },
  {
   "cell_type": "markdown",
   "id": "030cab43",
   "metadata": {},
   "source": [
    "Разделим выборку, содержащую индексы пользователей и проставленные ими рейтингу на 3 части - обучающую, валидационную и тестовую в пропорции 7:2:1. Так как нам нужно создать эмбеддинги для всех пользователей, то все индексы пользователей должны присутствовать в каждой из выборок. Поэтому сгруппируем датафрейм по их индексами и разделение будем проводить внутри полученных групп. Для того, чтобы приблизиться к реальной ситуации, отсортируем строки внутри каждой из групп по времени, старые данные занесем в обучающую выборку, а новые - в валидационную и тестовую "
   ]
  },
  {
   "cell_type": "code",
   "execution_count": 57,
   "id": "d9357ddb",
   "metadata": {},
   "outputs": [
    {
     "data": {
      "text/html": [
       "<div>\n",
       "<style scoped>\n",
       "    .dataframe tbody tr th:only-of-type {\n",
       "        vertical-align: middle;\n",
       "    }\n",
       "\n",
       "    .dataframe tbody tr th {\n",
       "        vertical-align: top;\n",
       "    }\n",
       "\n",
       "    .dataframe thead th {\n",
       "        text-align: right;\n",
       "    }\n",
       "</style>\n",
       "<table border=\"1\" class=\"dataframe\">\n",
       "  <thead>\n",
       "    <tr style=\"text-align: right;\">\n",
       "      <th></th>\n",
       "      <th>userId</th>\n",
       "      <th>movieId</th>\n",
       "      <th>rating</th>\n",
       "      <th>timestamp</th>\n",
       "    </tr>\n",
       "  </thead>\n",
       "  <tbody>\n",
       "    <tr>\n",
       "      <th>0</th>\n",
       "      <td>1</td>\n",
       "      <td>1</td>\n",
       "      <td>4.0</td>\n",
       "      <td>964982703</td>\n",
       "    </tr>\n",
       "    <tr>\n",
       "      <th>1</th>\n",
       "      <td>1</td>\n",
       "      <td>3</td>\n",
       "      <td>4.0</td>\n",
       "      <td>964981247</td>\n",
       "    </tr>\n",
       "    <tr>\n",
       "      <th>2</th>\n",
       "      <td>1</td>\n",
       "      <td>6</td>\n",
       "      <td>4.0</td>\n",
       "      <td>964982224</td>\n",
       "    </tr>\n",
       "    <tr>\n",
       "      <th>3</th>\n",
       "      <td>1</td>\n",
       "      <td>47</td>\n",
       "      <td>5.0</td>\n",
       "      <td>964983815</td>\n",
       "    </tr>\n",
       "    <tr>\n",
       "      <th>4</th>\n",
       "      <td>1</td>\n",
       "      <td>50</td>\n",
       "      <td>5.0</td>\n",
       "      <td>964982931</td>\n",
       "    </tr>\n",
       "  </tbody>\n",
       "</table>\n",
       "</div>"
      ],
      "text/plain": [
       "   userId  movieId  rating  timestamp\n",
       "0       1        1     4.0  964982703\n",
       "1       1        3     4.0  964981247\n",
       "2       1        6     4.0  964982224\n",
       "3       1       47     5.0  964983815\n",
       "4       1       50     5.0  964982931"
      ]
     },
     "execution_count": 57,
     "metadata": {},
     "output_type": "execute_result"
    }
   ],
   "source": [
    "ratings.head()"
   ]
  },
  {
   "cell_type": "code",
   "execution_count": 58,
   "id": "84488249",
   "metadata": {},
   "outputs": [],
   "source": [
    "#функция для отделения доли выборки в каждой группе\n",
    "def train_test_split(group, train_size):\n",
    "    threshold = int(len(group) * train_size)\n",
    "    return group.iloc[:threshold]"
   ]
  },
  {
   "cell_type": "code",
   "execution_count": 59,
   "id": "cb95b403",
   "metadata": {},
   "outputs": [],
   "source": [
    "ratings.sort_values([\"userId\", \"timestamp\"], inplace=True) #сортируем сначала по пользователям, затем по времени\n",
    "                                                           #в порядке возрастания значений\n",
    "train_ratings = ratings.groupby(\"userId\").apply(train_test_split, 0.7).reset_index(drop=True) #отделяем тренировочные данные\n",
    "val_test_ratings = pd.concat([ratings, train_ratings]).drop_duplicates(keep=False).reset_index(drop=True) #остаток заносим\n",
    "                                                                                            #в валидационную и тестовую"
   ]
  },
  {
   "cell_type": "code",
   "execution_count": 60,
   "id": "6d244baf",
   "metadata": {},
   "outputs": [
    {
     "data": {
      "text/html": [
       "<div>\n",
       "<style scoped>\n",
       "    .dataframe tbody tr th:only-of-type {\n",
       "        vertical-align: middle;\n",
       "    }\n",
       "\n",
       "    .dataframe tbody tr th {\n",
       "        vertical-align: top;\n",
       "    }\n",
       "\n",
       "    .dataframe thead th {\n",
       "        text-align: right;\n",
       "    }\n",
       "</style>\n",
       "<table border=\"1\" class=\"dataframe\">\n",
       "  <thead>\n",
       "    <tr style=\"text-align: right;\">\n",
       "      <th></th>\n",
       "      <th>userId</th>\n",
       "      <th>movieId</th>\n",
       "      <th>rating</th>\n",
       "      <th>timestamp</th>\n",
       "    </tr>\n",
       "  </thead>\n",
       "  <tbody>\n",
       "    <tr>\n",
       "      <th>0</th>\n",
       "      <td>1</td>\n",
       "      <td>804</td>\n",
       "      <td>4.0</td>\n",
       "      <td>964980499</td>\n",
       "    </tr>\n",
       "    <tr>\n",
       "      <th>1</th>\n",
       "      <td>1</td>\n",
       "      <td>1210</td>\n",
       "      <td>5.0</td>\n",
       "      <td>964980499</td>\n",
       "    </tr>\n",
       "    <tr>\n",
       "      <th>2</th>\n",
       "      <td>1</td>\n",
       "      <td>2018</td>\n",
       "      <td>5.0</td>\n",
       "      <td>964980523</td>\n",
       "    </tr>\n",
       "    <tr>\n",
       "      <th>3</th>\n",
       "      <td>1</td>\n",
       "      <td>2628</td>\n",
       "      <td>4.0</td>\n",
       "      <td>964980523</td>\n",
       "    </tr>\n",
       "    <tr>\n",
       "      <th>4</th>\n",
       "      <td>1</td>\n",
       "      <td>2826</td>\n",
       "      <td>4.0</td>\n",
       "      <td>964980523</td>\n",
       "    </tr>\n",
       "  </tbody>\n",
       "</table>\n",
       "</div>"
      ],
      "text/plain": [
       "   userId  movieId  rating  timestamp\n",
       "0       1      804     4.0  964980499\n",
       "1       1     1210     5.0  964980499\n",
       "2       1     2018     5.0  964980523\n",
       "3       1     2628     4.0  964980523\n",
       "4       1     2826     4.0  964980523"
      ]
     },
     "execution_count": 60,
     "metadata": {},
     "output_type": "execute_result"
    }
   ],
   "source": [
    "train_ratings.head()"
   ]
  },
  {
   "cell_type": "code",
   "execution_count": 61,
   "id": "e3e8e8ce",
   "metadata": {},
   "outputs": [],
   "source": [
    "#аналогично, отделяем валидационную выборку от тестовой\n",
    "val_ratings = val_test_ratings.groupby(\"userId\").apply(train_test_split, 2/3).reset_index(drop=True)\n",
    "test_ratings = pd.concat([val_test_ratings, val_ratings]).drop_duplicates(keep=False).reset_index(drop=True)"
   ]
  },
  {
   "cell_type": "code",
   "execution_count": 62,
   "id": "f4942053",
   "metadata": {},
   "outputs": [
    {
     "data": {
      "text/html": [
       "<div>\n",
       "<style scoped>\n",
       "    .dataframe tbody tr th:only-of-type {\n",
       "        vertical-align: middle;\n",
       "    }\n",
       "\n",
       "    .dataframe tbody tr th {\n",
       "        vertical-align: top;\n",
       "    }\n",
       "\n",
       "    .dataframe thead th {\n",
       "        text-align: right;\n",
       "    }\n",
       "</style>\n",
       "<table border=\"1\" class=\"dataframe\">\n",
       "  <thead>\n",
       "    <tr style=\"text-align: right;\">\n",
       "      <th></th>\n",
       "      <th>userId</th>\n",
       "      <th>movieId</th>\n",
       "      <th>rating</th>\n",
       "      <th>timestamp</th>\n",
       "    </tr>\n",
       "  </thead>\n",
       "  <tbody>\n",
       "    <tr>\n",
       "      <th>0</th>\n",
       "      <td>1</td>\n",
       "      <td>1030</td>\n",
       "      <td>3.0</td>\n",
       "      <td>964982903</td>\n",
       "    </tr>\n",
       "    <tr>\n",
       "      <th>1</th>\n",
       "      <td>1</td>\n",
       "      <td>2033</td>\n",
       "      <td>5.0</td>\n",
       "      <td>964982903</td>\n",
       "    </tr>\n",
       "    <tr>\n",
       "      <th>2</th>\n",
       "      <td>1</td>\n",
       "      <td>4006</td>\n",
       "      <td>4.0</td>\n",
       "      <td>964982903</td>\n",
       "    </tr>\n",
       "    <tr>\n",
       "      <th>3</th>\n",
       "      <td>1</td>\n",
       "      <td>50</td>\n",
       "      <td>5.0</td>\n",
       "      <td>964982931</td>\n",
       "    </tr>\n",
       "    <tr>\n",
       "      <th>4</th>\n",
       "      <td>1</td>\n",
       "      <td>608</td>\n",
       "      <td>5.0</td>\n",
       "      <td>964982931</td>\n",
       "    </tr>\n",
       "  </tbody>\n",
       "</table>\n",
       "</div>"
      ],
      "text/plain": [
       "   userId  movieId  rating  timestamp\n",
       "0       1     1030     3.0  964982903\n",
       "1       1     2033     5.0  964982903\n",
       "2       1     4006     4.0  964982903\n",
       "3       1       50     5.0  964982931\n",
       "4       1      608     5.0  964982931"
      ]
     },
     "execution_count": 62,
     "metadata": {},
     "output_type": "execute_result"
    }
   ],
   "source": [
    "val_ratings.head()"
   ]
  },
  {
   "cell_type": "code",
   "execution_count": 63,
   "id": "eed083eb",
   "metadata": {},
   "outputs": [
    {
     "data": {
      "text/html": [
       "<div>\n",
       "<style scoped>\n",
       "    .dataframe tbody tr th:only-of-type {\n",
       "        vertical-align: middle;\n",
       "    }\n",
       "\n",
       "    .dataframe tbody tr th {\n",
       "        vertical-align: top;\n",
       "    }\n",
       "\n",
       "    .dataframe thead th {\n",
       "        text-align: right;\n",
       "    }\n",
       "</style>\n",
       "<table border=\"1\" class=\"dataframe\">\n",
       "  <thead>\n",
       "    <tr style=\"text-align: right;\">\n",
       "      <th></th>\n",
       "      <th>userId</th>\n",
       "      <th>movieId</th>\n",
       "      <th>rating</th>\n",
       "      <th>timestamp</th>\n",
       "    </tr>\n",
       "  </thead>\n",
       "  <tbody>\n",
       "    <tr>\n",
       "      <th>0</th>\n",
       "      <td>1</td>\n",
       "      <td>1270</td>\n",
       "      <td>5.0</td>\n",
       "      <td>964983705</td>\n",
       "    </tr>\n",
       "    <tr>\n",
       "      <th>1</th>\n",
       "      <td>1</td>\n",
       "      <td>1240</td>\n",
       "      <td>5.0</td>\n",
       "      <td>964983723</td>\n",
       "    </tr>\n",
       "    <tr>\n",
       "      <th>2</th>\n",
       "      <td>1</td>\n",
       "      <td>1206</td>\n",
       "      <td>5.0</td>\n",
       "      <td>964983737</td>\n",
       "    </tr>\n",
       "    <tr>\n",
       "      <th>3</th>\n",
       "      <td>1</td>\n",
       "      <td>3702</td>\n",
       "      <td>5.0</td>\n",
       "      <td>964983737</td>\n",
       "    </tr>\n",
       "    <tr>\n",
       "      <th>4</th>\n",
       "      <td>1</td>\n",
       "      <td>3033</td>\n",
       "      <td>5.0</td>\n",
       "      <td>964983762</td>\n",
       "    </tr>\n",
       "  </tbody>\n",
       "</table>\n",
       "</div>"
      ],
      "text/plain": [
       "   userId  movieId  rating  timestamp\n",
       "0       1     1270     5.0  964983705\n",
       "1       1     1240     5.0  964983723\n",
       "2       1     1206     5.0  964983737\n",
       "3       1     3702     5.0  964983737\n",
       "4       1     3033     5.0  964983762"
      ]
     },
     "execution_count": 63,
     "metadata": {},
     "output_type": "execute_result"
    }
   ],
   "source": [
    "test_ratings.head()"
   ]
  },
  {
   "cell_type": "code",
   "execution_count": 64,
   "id": "1b1b2121",
   "metadata": {},
   "outputs": [
    {
     "data": {
      "text/plain": [
       "(70312, 20162, 10362)"
      ]
     },
     "execution_count": 64,
     "metadata": {},
     "output_type": "execute_result"
    }
   ],
   "source": [
    "train_ratings.shape[0], val_ratings.shape[0], test_ratings.shape[0]"
   ]
  },
  {
   "cell_type": "code",
   "execution_count": 65,
   "id": "c112497a",
   "metadata": {},
   "outputs": [
    {
     "data": {
      "text/plain": [
       "(100836, 4)"
      ]
     },
     "execution_count": 65,
     "metadata": {},
     "output_type": "execute_result"
    }
   ],
   "source": [
    "ratings.shape"
   ]
  },
  {
   "cell_type": "markdown",
   "id": "8c0d5114",
   "metadata": {},
   "source": [
    "Получили нужные пропорции"
   ]
  },
  {
   "cell_type": "markdown",
   "id": "01e931a1",
   "metadata": {},
   "source": [
    "При инициализации также закодируем жанры фильмов. Для жанров не требуется предварительной обработки, так как их мало и они все разные. Их перечень есть в документации датасета, выпишем его сюда и создадим словарь"
   ]
  },
  {
   "cell_type": "code",
   "execution_count": 66,
   "id": "f3f74e2f",
   "metadata": {},
   "outputs": [],
   "source": [
    "genres = [\n",
    "    \"(no genres listed)\",\n",
    "    \"Action\", \n",
    "    \"Adventure\", \n",
    "    \"Animation\", \n",
    "    \"Children\", \n",
    "    \"Comedy\", \n",
    "    \"Crime\", \n",
    "    \"Documentary\", \n",
    "    \"Drama\", \n",
    "    \"Fantasy\", \n",
    "    \"Film-Noir\", \n",
    "    \"Horror\",\n",
    "    \"Musical\",\n",
    "    \"Mystery\",\n",
    "    \"Romance\",\n",
    "    \"Sci-Fi\",\n",
    "    \"Thriller\",\n",
    "    \"War\",\n",
    "    \"Western\",\n",
    "    \"IMAX\"\n",
    "]\n",
    "genres_to_idx = {genre: index for index, genre in enumerate(genres)}"
   ]
  },
  {
   "cell_type": "markdown",
   "id": "6a259457",
   "metadata": {},
   "source": [
    "## Создание датасета"
   ]
  },
  {
   "cell_type": "markdown",
   "id": "f84b005a",
   "metadata": {},
   "source": [
    "Внутри батча будут содержаться все описанные выше признаки. Создавать батч будем следующим образом: по полученному индексу обращаемся к таблице с пользователями, фильмами и оценками, из нее получаем индекс фильма и используем его для получения всех остальных признаков во второй таблице.\n",
    "\n",
    "Так как мы оперерируем тензорами, то внутри батча будем добавлять паддинги из нулей. Нули как раз подходят, так как до этого мы обозначали ими отсутствие тегов или неуказанный жанр."
   ]
  },
  {
   "cell_type": "code",
   "execution_count": 67,
   "id": "c111fdad",
   "metadata": {},
   "outputs": [],
   "source": [
    "class MovieDataset(Dataset):\n",
    "    def __init__(self, movies_data, user_data):\n",
    "        self.user_idx = user_data[\"userId\"]\n",
    "        self.ratings = user_data[\"rating\"]\n",
    "        self.movie_idx = user_data[\"movieId\"]\n",
    "        self.tag_idx = movies_data[\"tags\"]\n",
    "        self.genre_idx = movies_data[\"genres\"].apply(lambda x: [genres_to_idx[genre] for genre in x]) #кодируем жанры по словарю\n",
    "    \n",
    "    def __getitem__(self, index):\n",
    "        user_id = self.user_idx[index]\n",
    "        rating = self.ratings[index]\n",
    "        movie_id = self.movie_idx[index]\n",
    "        tags = torch.Tensor(self.tag_idx[movie_id]).int()\n",
    "        genres = torch.Tensor(self.genre_idx[movie_id]).int()\n",
    "        return tags, genres, user_id, rating, index\n",
    "    \n",
    "    def __len__(self):\n",
    "        return self.user_idx.shape[0]\n",
    "    \n",
    "    def collate_function(self, batch):\n",
    "        tags, genres, user_id, rating, index = zip(*batch)\n",
    "        batched_tags = pad_sequence(tags, batch_first=True, padding_value=0)\n",
    "        batched_genres = pad_sequence(genres, batch_first=True, padding_value=0)\n",
    "        user_id = torch.Tensor(user_id).int()\n",
    "        rating = torch.Tensor(rating).int()\n",
    "        return {\n",
    "            \"user_id\": user_id, \n",
    "            \"tags\": batched_tags,\n",
    "            \"genres\": batched_genres, \n",
    "            \"rating\": rating, \n",
    "            \"index\": index}"
   ]
  },
  {
   "cell_type": "markdown",
   "id": "8ef10efd",
   "metadata": {},
   "source": [
    "Создаем даталоадеры, объекты перемешиваем с фиксированной случайностью. Я выбрал размер батча 128, так как он самый оптимальный по скорости на моем компьютере"
   ]
  },
  {
   "cell_type": "code",
   "execution_count": 81,
   "id": "0eb20be3",
   "metadata": {},
   "outputs": [],
   "source": [
    "torch.manual_seed(42)\n",
    "batch_size = 128\n",
    "\n",
    "train_dataset = MovieDataset(movies, train_ratings)\n",
    "train_dataloader = DataLoader(\n",
    "    train_dataset, \n",
    "    batch_size=batch_size, \n",
    "    collate_fn=train_dataset.collate_function,\n",
    "    shuffle=True,\n",
    ")\n",
    "\n",
    "val_dataset = MovieDataset(movies, val_ratings)\n",
    "val_dataloader = DataLoader(\n",
    "    val_dataset,\n",
    "    batch_size=batch_size,\n",
    "    collate_fn=val_dataset.collate_function,\n",
    "    shuffle=True,\n",
    ")\n",
    "\n",
    "test_dataset = MovieDataset(movies, test_ratings)\n",
    "test_dataloader = DataLoader(\n",
    "    test_dataset,\n",
    "    batch_size=1,\n",
    "    collate_fn=val_dataset.collate_function,\n",
    "    shuffle=True,\n",
    ")"
   ]
  },
  {
   "cell_type": "markdown",
   "id": "99714557",
   "metadata": {},
   "source": [
    "## Обучение"
   ]
  },
  {
   "cell_type": "markdown",
   "id": "195096ac",
   "metadata": {},
   "source": [
    "Как было описано в начале, наша модель будет создавать эмбеддинги фильмов по их признакам и эмбеддинги пользователям по индексам. Затем мы будем считать косинусное сходство между двумя полученными эмбеддингами и на его основе вычислять лосс, о котором будет написано дальше.\n",
    "\n",
    "Для получения эмбеддингов фильмов воспользуемся двумя простыми nn.Embedding(), каждый из которых будет создавать векторные представления пользовательских тегов и жанров соответственно. Далее полученные эмбеддинги сконкатенируем, пропустим через линейный слой, чтобы привести к размерности эмбеддинга пользователя, и вычислим лосс. Эмбеддинги пользователя также будем строить с помощью nn.Embedding().\n",
    "\n",
    "Можно было попробовать закодировать признаки и по-другому - например, с помощью предобученной модели BERT или обучить свой TransformerEncoder. Но предобученная модель кажется слишком избыточной для такой задачи, так как нам особо не нужны точные смысловые представления тегов и жанров. А трансформерные архитектуры все-таки больше подходят для более длинных последовательностей, и тоже могли оказаться избытычными. В нашем случае наши признаки однословные и ни теги, ни жанры друг с другом не так сильно связаны, чтобы образовывать какой-то контекст."
   ]
  },
  {
   "cell_type": "code",
   "execution_count": 69,
   "id": "4a4372c3",
   "metadata": {},
   "outputs": [],
   "source": [
    "class MovieModel(nn.Module):\n",
    "    def __init__(self, tag_vocab_size, genre_vocab_size, user_vocab_size, embedding_dim):\n",
    "        super(MovieModel, self).__init__()\n",
    "        \n",
    "        self.tag_embedder = nn.Embedding(tag_vocab_size, embedding_dim, padding_idx=0) #эмбеддер пользовательских тегов\n",
    "        self.genre_embedder = nn.Embedding(genre_vocab_size, embedding_dim, padding_idx=0) #эмбеддер жанров\n",
    "        self.user_embedder = nn.Embedding(user_vocab_size, embedding_dim) #эмбеддер пользовательских индексов\n",
    "        \n",
    "        self.fc = nn.Linear(2 * embedding_dim, embedding_dim)\n",
    "        \n",
    "    def forward(self, input_batch):\n",
    "        tag_emb = torch.mean(self.tag_embedder(input_batch[\"tags\"]), dim=1)\n",
    "        genre_emb = torch.mean(self.genre_embedder(input_batch[\"genres\"]), dim=1)\n",
    "        \n",
    "        tag_genre_emb = torch.cat((tag_emb, genre_emb), dim=1) #конкатенируем полученные эмбеддинги\n",
    "        movie_emb = self.fc(tag_genre_emb) #получаем эмбеддинг фильма\n",
    "        \n",
    "        user_emb = self.user_embedder(input_batch[\"user_id\"])\n",
    "        \n",
    "        return user_emb, movie_emb"
   ]
  },
  {
   "cell_type": "markdown",
   "id": "a1203b3c",
   "metadata": {},
   "source": [
    "Чтобы получить лосс, сначала посчитаем косинусное сходство между векторами, затем переведем его в диапазон от 0 до 5. Затем вычислим сам лосс - Root mean squared error между оценкой пользователя и полученным значением сходства. Я выбрал RMSE, так как его среднее значение можно использовать в качестве интерпретируемой метрики на валидации - будет понятно, на сколько баллов наша предсказанная оценка будет отклоняться от истинной в среднем."
   ]
  },
  {
   "cell_type": "code",
   "execution_count": 70,
   "id": "2ed42434",
   "metadata": {},
   "outputs": [],
   "source": [
    "def compute_loss(user_emb, movie_emb, rating):\n",
    "    cos_sim = nn.CosineSimilarity(dim=1)\n",
    "    \n",
    "    sim_norm = (cos_sim(user_emb, movie_emb) + 1) * 5 #переводим из диапазона [-1, 1] в [0, 5]\n",
    "    rmse_loss = torch.sqrt(torch.mean((sim_norm - rating) ** 2))\n",
    "    \n",
    "    return rmse_loss"
   ]
  },
  {
   "cell_type": "code",
   "execution_count": 74,
   "id": "9b1d9f85",
   "metadata": {},
   "outputs": [
    {
     "data": {
      "application/vnd.jupyter.widget-view+json": {
       "model_id": "71162cafbe6f455fa3781169c296414b",
       "version_major": 2,
       "version_minor": 0
      },
      "text/plain": [
       "  0%|          | 0/550000 [00:00<?, ?it/s]"
      ]
     },
     "metadata": {},
     "output_type": "display_data"
    },
    {
     "data": {
      "application/vnd.jupyter.widget-view+json": {
       "model_id": "511959dde1cd47ecb6721c07e9524ba7",
       "version_major": 2,
       "version_minor": 0
      },
      "text/plain": [
       "  0%|          | 0/158 [00:00<?, ?it/s]"
      ]
     },
     "metadata": {},
     "output_type": "display_data"
    },
    {
     "name": "stdout",
     "output_type": "stream",
     "text": [
      "Validation loss: 1.663\n"
     ]
    },
    {
     "data": {
      "application/vnd.jupyter.widget-view+json": {
       "model_id": "27f41256a30f4533bf24a9952da2cb33",
       "version_major": 2,
       "version_minor": 0
      },
      "text/plain": [
       "  0%|          | 0/158 [00:00<?, ?it/s]"
      ]
     },
     "metadata": {},
     "output_type": "display_data"
    },
    {
     "name": "stdout",
     "output_type": "stream",
     "text": [
      "Validation loss: 1.535\n"
     ]
    },
    {
     "data": {
      "application/vnd.jupyter.widget-view+json": {
       "model_id": "1d71e63d4bf94ed4ae6e7cbd8df60f72",
       "version_major": 2,
       "version_minor": 0
      },
      "text/plain": [
       "  0%|          | 0/158 [00:00<?, ?it/s]"
      ]
     },
     "metadata": {},
     "output_type": "display_data"
    },
    {
     "name": "stdout",
     "output_type": "stream",
     "text": [
      "Validation loss: 1.424\n"
     ]
    },
    {
     "data": {
      "application/vnd.jupyter.widget-view+json": {
       "model_id": "af972505fdd84902a9f2568cc6723392",
       "version_major": 2,
       "version_minor": 0
      },
      "text/plain": [
       "  0%|          | 0/158 [00:00<?, ?it/s]"
      ]
     },
     "metadata": {},
     "output_type": "display_data"
    },
    {
     "name": "stdout",
     "output_type": "stream",
     "text": [
      "Validation loss: 1.335\n"
     ]
    },
    {
     "data": {
      "application/vnd.jupyter.widget-view+json": {
       "model_id": "0d3a87a775df40ff90412afe6e09fd53",
       "version_major": 2,
       "version_minor": 0
      },
      "text/plain": [
       "  0%|          | 0/158 [00:00<?, ?it/s]"
      ]
     },
     "metadata": {},
     "output_type": "display_data"
    },
    {
     "name": "stdout",
     "output_type": "stream",
     "text": [
      "Validation loss: 1.262\n"
     ]
    },
    {
     "data": {
      "application/vnd.jupyter.widget-view+json": {
       "model_id": "22a7ec6b395f496a922fcfac888bab5f",
       "version_major": 2,
       "version_minor": 0
      },
      "text/plain": [
       "  0%|          | 0/158 [00:00<?, ?it/s]"
      ]
     },
     "metadata": {},
     "output_type": "display_data"
    },
    {
     "name": "stdout",
     "output_type": "stream",
     "text": [
      "Validation loss: 1.206\n"
     ]
    },
    {
     "data": {
      "application/vnd.jupyter.widget-view+json": {
       "model_id": "9f44083de356420492a4a87e7f8f7d8c",
       "version_major": 2,
       "version_minor": 0
      },
      "text/plain": [
       "  0%|          | 0/158 [00:00<?, ?it/s]"
      ]
     },
     "metadata": {},
     "output_type": "display_data"
    },
    {
     "name": "stdout",
     "output_type": "stream",
     "text": [
      "Validation loss: 1.16\n"
     ]
    },
    {
     "data": {
      "application/vnd.jupyter.widget-view+json": {
       "model_id": "c8242704797944279c46d9410b7b6f3e",
       "version_major": 2,
       "version_minor": 0
      },
      "text/plain": [
       "  0%|          | 0/158 [00:00<?, ?it/s]"
      ]
     },
     "metadata": {},
     "output_type": "display_data"
    },
    {
     "name": "stdout",
     "output_type": "stream",
     "text": [
      "Validation loss: 1.127\n"
     ]
    },
    {
     "data": {
      "application/vnd.jupyter.widget-view+json": {
       "model_id": "7f680d259b3c4a0bb0d75068a544cf08",
       "version_major": 2,
       "version_minor": 0
      },
      "text/plain": [
       "  0%|          | 0/158 [00:00<?, ?it/s]"
      ]
     },
     "metadata": {},
     "output_type": "display_data"
    },
    {
     "name": "stdout",
     "output_type": "stream",
     "text": [
      "Validation loss: 1.101\n"
     ]
    },
    {
     "data": {
      "application/vnd.jupyter.widget-view+json": {
       "model_id": "87a2d6ce0330401586e39d74f0d16697",
       "version_major": 2,
       "version_minor": 0
      },
      "text/plain": [
       "  0%|          | 0/158 [00:00<?, ?it/s]"
      ]
     },
     "metadata": {},
     "output_type": "display_data"
    },
    {
     "name": "stdout",
     "output_type": "stream",
     "text": [
      "Validation loss: 1.08\n"
     ]
    },
    {
     "data": {
      "application/vnd.jupyter.widget-view+json": {
       "model_id": "a187c405a22745d689bfdbb4564bf976",
       "version_major": 2,
       "version_minor": 0
      },
      "text/plain": [
       "  0%|          | 0/158 [00:00<?, ?it/s]"
      ]
     },
     "metadata": {},
     "output_type": "display_data"
    },
    {
     "name": "stdout",
     "output_type": "stream",
     "text": [
      "Validation loss: 1.064\n"
     ]
    },
    {
     "data": {
      "application/vnd.jupyter.widget-view+json": {
       "model_id": "e9a6963803e84d8ea2912a4556262e21",
       "version_major": 2,
       "version_minor": 0
      },
      "text/plain": [
       "  0%|          | 0/158 [00:00<?, ?it/s]"
      ]
     },
     "metadata": {},
     "output_type": "display_data"
    },
    {
     "name": "stdout",
     "output_type": "stream",
     "text": [
      "Validation loss: 1.051\n"
     ]
    },
    {
     "data": {
      "application/vnd.jupyter.widget-view+json": {
       "model_id": "64d670d6c6ce47bba9dfb8018cbb5ae6",
       "version_major": 2,
       "version_minor": 0
      },
      "text/plain": [
       "  0%|          | 0/158 [00:00<?, ?it/s]"
      ]
     },
     "metadata": {},
     "output_type": "display_data"
    },
    {
     "name": "stdout",
     "output_type": "stream",
     "text": [
      "Validation loss: 1.041\n"
     ]
    },
    {
     "data": {
      "application/vnd.jupyter.widget-view+json": {
       "model_id": "8266971913324228964b5a50394dec40",
       "version_major": 2,
       "version_minor": 0
      },
      "text/plain": [
       "  0%|          | 0/158 [00:00<?, ?it/s]"
      ]
     },
     "metadata": {},
     "output_type": "display_data"
    },
    {
     "name": "stdout",
     "output_type": "stream",
     "text": [
      "Validation loss: 1.033\n",
      "Training is finished.\n"
     ]
    }
   ],
   "source": [
    "embedding_dim = 100 #тоже самое эффективное значение по скорости обучения и сходимости\n",
    "lr = 1e-5\n",
    "epochs = 1000\n",
    "\n",
    "model = MovieModel(\n",
    "    unique_tags.shape[0]+1, \n",
    "    len(genres), \n",
    "    ratings[\"userId\"].unique().shape[0]+1, \n",
    "    embedding_dim, \n",
    ")\n",
    "model.to(device)\n",
    "\n",
    "optimizer = AdamW(model.parameters(), lr)\n",
    "\n",
    "pbar = tqdm(total=len(train_dataloader)*epochs)\n",
    "\n",
    "num_iter = 1\n",
    "val_every = 10000 #каждые val_every итераций будем проводить валидацию\n",
    "\n",
    "#будем смотреть на изменение среднего значения лосса на валидации,\n",
    "#и когда оно станет слишком незначительным, закончим обучение\n",
    "last_val_loss = 5\n",
    "delta = 0.01\n",
    "finished = False\n",
    "\n",
    "for epoch in range(epochs):\n",
    "    for batch in train_dataloader:\n",
    "        model.train()\n",
    "\n",
    "        for key, val in batch.items(): #переводим все тензоры на устройство вычислений\n",
    "            if key != \"index\":\n",
    "                batch[key] = val.to(device)\n",
    "\n",
    "        optimizer.zero_grad()\n",
    "\n",
    "        user_emb, movie_emb = model(batch)\n",
    "        loss = compute_loss(user_emb, movie_emb, batch[\"rating\"])\n",
    "\n",
    "        loss.backward()\n",
    "        optimizer.step()\n",
    "\n",
    "        pbar.desc = f\"Epoch {epoch+1}/{epochs}. Train loss: {round(loss.item(), 3)}\"\n",
    "        pbar.update()\n",
    "        \n",
    "        num_iter += 1\n",
    "        \n",
    "        if num_iter % val_every == 0:\n",
    "            model.eval()\n",
    "            val_loss = 0\n",
    "            \n",
    "            for batch in tqdm(val_dataloader):\n",
    "                for key, val in batch.items():\n",
    "                    if key != \"index\":\n",
    "                        batch[key] = val.to(device)\n",
    "                user_emb, movie_emb = model(batch)\n",
    "                val_loss += compute_loss(user_emb, movie_emb, batch[\"rating\"])\n",
    "            \n",
    "            mean_val_loss = val_loss.item() / len(val_dataloader)\n",
    "            print(f\"Validation loss: {round(mean_val_loss, 3)}\")\n",
    "            \n",
    "            #проверка на раннюю остановку\n",
    "            if last_val_loss - mean_val_loss < delta:\n",
    "                print(\"Training is finished.\")\n",
    "                finished = True\n",
    "                break\n",
    "            else:\n",
    "                last_val_loss = mean_val_loss\n",
    "                \n",
    "    if finished:\n",
    "        break\n",
    "        \n",
    "pbar.close()"
   ]
  },
  {
   "cell_type": "markdown",
   "id": "e0906535",
   "metadata": {},
   "source": [
    "Видим, что на валидационной выборке модель в среднем ошибается на один балл. Это не самый лучший результат, хоть и не сильно плохой. На большом датасете качество могло бы получиться выше засчет того, что там больше данных, а также есть фиксированные теги с релевантностью, которые могли бы дать гораздо больше информации о фильмах."
   ]
  },
  {
   "cell_type": "markdown",
   "id": "c21e3239",
   "metadata": {},
   "source": [
    "Теперь можно смоделировать реальную ситуацию: возьмем случайный объект из тестовой выборки (shuffle=True) и попытаемся предсказать на нем рейтинг"
   ]
  },
  {
   "cell_type": "code",
   "execution_count": 82,
   "id": "3ffbee17",
   "metadata": {},
   "outputs": [
    {
     "name": "stdout",
     "output_type": "stream",
     "text": [
      "Loss: 1.2412543296813965, true rating: tensor([3], device='cuda:0', dtype=torch.int32)\n"
     ]
    }
   ],
   "source": [
    "for batch in test_dataloader:\n",
    "    for key, val in batch.items():\n",
    "        if key != \"index\":\n",
    "            batch[key] = val.to(device)\n",
    "    user_emb, movie_emb = model(batch)\n",
    "    loss = compute_loss(user_emb, movie_emb, batch[\"rating\"])\n",
    "    print(f\"Loss: {loss.item()}, true rating: {batch['rating']}\")\n",
    "    break"
   ]
  },
  {
   "cell_type": "markdown",
   "id": "6bccfda2",
   "metadata": {},
   "source": [
    "Модель предсказала либо 2, либо 4, что в целом не так плохо, как 5 или 0))\n",
    "\n",
    "Дальше можно для каждого пользователя вычислять косинусное сходство ко всем фильмам, сортировать и выдавать наиболее близкие"
   ]
  },
  {
   "cell_type": "code",
   "execution_count": null,
   "id": "bb15ee7f",
   "metadata": {},
   "outputs": [],
   "source": []
  }
 ],
 "metadata": {
  "kernelspec": {
   "display_name": "VK_task",
   "language": "python",
   "name": "vk_task"
  },
  "language_info": {
   "codemirror_mode": {
    "name": "ipython",
    "version": 3
   },
   "file_extension": ".py",
   "mimetype": "text/x-python",
   "name": "python",
   "nbconvert_exporter": "python",
   "pygments_lexer": "ipython3",
   "version": "3.8.16"
  },
  "varInspector": {
   "cols": {
    "lenName": 16,
    "lenType": 16,
    "lenVar": 40
   },
   "kernels_config": {
    "python": {
     "delete_cmd_postfix": "",
     "delete_cmd_prefix": "del ",
     "library": "var_list.py",
     "varRefreshCmd": "print(var_dic_list())"
    },
    "r": {
     "delete_cmd_postfix": ") ",
     "delete_cmd_prefix": "rm(",
     "library": "var_list.r",
     "varRefreshCmd": "cat(var_dic_list()) "
    }
   },
   "types_to_exclude": [
    "module",
    "function",
    "builtin_function_or_method",
    "instance",
    "_Feature"
   ],
   "window_display": false
  }
 },
 "nbformat": 4,
 "nbformat_minor": 5
}
