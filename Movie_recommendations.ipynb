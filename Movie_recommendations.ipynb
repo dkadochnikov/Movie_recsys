{
 "cells": [
  {
   "cell_type": "code",
   "execution_count": 104,
   "id": "aab53e44",
   "metadata": {},
   "outputs": [],
   "source": [
    "import pandas as pd\n",
    "import torch.nn as nn\n",
    "import torch\n",
    "from torch.utils.data import Dataset, DataLoader\n",
    "from tqdm.auto import tqdm\n",
    "from torch.nn.utils.rnn import pad_sequence\n",
    "from torch.optim import AdamW"
   ]
  },
  {
   "cell_type": "code",
   "execution_count": 105,
   "id": "d6560b9c",
   "metadata": {},
   "outputs": [],
   "source": [
    "device = \"cuda\" if torch.cuda.is_available() else \"cpu\""
   ]
  },
  {
   "cell_type": "markdown",
   "id": "0e19edad",
   "metadata": {},
   "source": [
    "## Идея"
   ]
  },
  {
   "cell_type": "markdown",
   "id": "1ee5629a",
   "metadata": {},
   "source": [
    "Судя по тому, что в задании выделена фраза \"по эмбеддингу пользователя искать похожие эмбеддинги фильмов\", задача сводится к построению таких эмбеддингов, чтобы косинусное сходство между эмбеддингами пользователей и фильмов, которые им нравятся, было максимальным.\n",
    "\n",
    "Для фильмов нам даны их жанры, теги, проставленные пользователями, а также другой набор тегов с коэффициентами их релевантности для каждого фильма. Всю эту информацию можно использовать для построения эмбеддингов фильмов.\n",
    "Для пользователей нам даны их индексы, проставленные теги и оценки. По индексам можно строить эмбеддингов, по оценкам - считать ошибку, а с тегами сложнее. Пользователь может ставить теги совершенно разным фильмам, в том числе и тем, которые ему не понравились. Поэтому проставленные пользователем теги не дадут никакой информации о его предпочтениях.\n",
    "\n",
    "В итоге получаем следующий пайплайн. Строим эмбеддинги фильмов по всей информации, которая у нас о них есть, строим эмбеддинги по пользовательским индексам, вычисляем косинусное сходство между полученными эмбеддингами, и считаем ошибку, используя косинусное сходство и поставленную оценку."
   ]
  },
  {
   "cell_type": "markdown",
   "id": "d07f5c59",
   "metadata": {},
   "source": [
    "## Предобработка"
   ]
  },
  {
   "cell_type": "code",
   "execution_count": 106,
   "id": "d7cf78f4",
   "metadata": {},
   "outputs": [
    {
     "data": {
      "text/html": [
       "<div>\n",
       "<style scoped>\n",
       "    .dataframe tbody tr th:only-of-type {\n",
       "        vertical-align: middle;\n",
       "    }\n",
       "\n",
       "    .dataframe tbody tr th {\n",
       "        vertical-align: top;\n",
       "    }\n",
       "\n",
       "    .dataframe thead th {\n",
       "        text-align: right;\n",
       "    }\n",
       "</style>\n",
       "<table border=\"1\" class=\"dataframe\">\n",
       "  <thead>\n",
       "    <tr style=\"text-align: right;\">\n",
       "      <th></th>\n",
       "      <th>movieId</th>\n",
       "      <th>tagId</th>\n",
       "      <th>relevance</th>\n",
       "    </tr>\n",
       "  </thead>\n",
       "  <tbody>\n",
       "    <tr>\n",
       "      <th>0</th>\n",
       "      <td>1</td>\n",
       "      <td>1</td>\n",
       "      <td>0.02900</td>\n",
       "    </tr>\n",
       "    <tr>\n",
       "      <th>1</th>\n",
       "      <td>1</td>\n",
       "      <td>2</td>\n",
       "      <td>0.02375</td>\n",
       "    </tr>\n",
       "    <tr>\n",
       "      <th>2</th>\n",
       "      <td>1</td>\n",
       "      <td>3</td>\n",
       "      <td>0.05425</td>\n",
       "    </tr>\n",
       "    <tr>\n",
       "      <th>3</th>\n",
       "      <td>1</td>\n",
       "      <td>4</td>\n",
       "      <td>0.06875</td>\n",
       "    </tr>\n",
       "    <tr>\n",
       "      <th>4</th>\n",
       "      <td>1</td>\n",
       "      <td>5</td>\n",
       "      <td>0.16000</td>\n",
       "    </tr>\n",
       "  </tbody>\n",
       "</table>\n",
       "</div>"
      ],
      "text/plain": [
       "   movieId  tagId  relevance\n",
       "0        1      1    0.02900\n",
       "1        1      2    0.02375\n",
       "2        1      3    0.05425\n",
       "3        1      4    0.06875\n",
       "4        1      5    0.16000"
      ]
     },
     "execution_count": 106,
     "metadata": {},
     "output_type": "execute_result"
    }
   ],
   "source": [
    "genome_scores = pd.read_csv(\"ml-latest/genome-scores.csv\")\n",
    "genome_scores.head()"
   ]
  },
  {
   "cell_type": "code",
   "execution_count": 107,
   "id": "d0556c6c",
   "metadata": {},
   "outputs": [
    {
     "data": {
      "text/html": [
       "<div>\n",
       "<style scoped>\n",
       "    .dataframe tbody tr th:only-of-type {\n",
       "        vertical-align: middle;\n",
       "    }\n",
       "\n",
       "    .dataframe tbody tr th {\n",
       "        vertical-align: top;\n",
       "    }\n",
       "\n",
       "    .dataframe thead th {\n",
       "        text-align: right;\n",
       "    }\n",
       "</style>\n",
       "<table border=\"1\" class=\"dataframe\">\n",
       "  <thead>\n",
       "    <tr style=\"text-align: right;\">\n",
       "      <th></th>\n",
       "      <th>tagId</th>\n",
       "      <th>tag</th>\n",
       "    </tr>\n",
       "  </thead>\n",
       "  <tbody>\n",
       "    <tr>\n",
       "      <th>0</th>\n",
       "      <td>1</td>\n",
       "      <td>007</td>\n",
       "    </tr>\n",
       "    <tr>\n",
       "      <th>1</th>\n",
       "      <td>2</td>\n",
       "      <td>007 (series)</td>\n",
       "    </tr>\n",
       "    <tr>\n",
       "      <th>2</th>\n",
       "      <td>3</td>\n",
       "      <td>18th century</td>\n",
       "    </tr>\n",
       "    <tr>\n",
       "      <th>3</th>\n",
       "      <td>4</td>\n",
       "      <td>1920s</td>\n",
       "    </tr>\n",
       "    <tr>\n",
       "      <th>4</th>\n",
       "      <td>5</td>\n",
       "      <td>1930s</td>\n",
       "    </tr>\n",
       "  </tbody>\n",
       "</table>\n",
       "</div>"
      ],
      "text/plain": [
       "   tagId           tag\n",
       "0      1           007\n",
       "1      2  007 (series)\n",
       "2      3  18th century\n",
       "3      4         1920s\n",
       "4      5         1930s"
      ]
     },
     "execution_count": 107,
     "metadata": {},
     "output_type": "execute_result"
    }
   ],
   "source": [
    "genome_tags = pd.read_csv(\"ml-latest/genome-tags.csv\")\n",
    "genome_tags.head()"
   ]
  },
  {
   "cell_type": "markdown",
   "id": "492889b1",
   "metadata": {},
   "source": [
    "Сразу обработаем фиксированный набор тегов, для которых посчитана релевантность. Так как их индексы идут подряд, сохраним их в отдельный тензор без изменений."
   ]
  },
  {
   "cell_type": "code",
   "execution_count": 108,
   "id": "766c2c70",
   "metadata": {},
   "outputs": [],
   "source": [
    "other_tags = torch.Tensor([i for i in range(genome_tags.shape[0])]).long().to(device)"
   ]
  },
  {
   "cell_type": "code",
   "execution_count": 109,
   "id": "4b375153",
   "metadata": {},
   "outputs": [],
   "source": [
    "tags = pd.read_csv(\"ml-latest/tags.csv\")\n",
    "movies = pd.read_csv(\"ml-latest/movies.csv\", index_col=\"movieId\")\n",
    "ratings = pd.read_csv(\"ml-latest/ratings.csv\")"
   ]
  },
  {
   "cell_type": "markdown",
   "id": "b5002f9b",
   "metadata": {},
   "source": [
    "Для обработки пользовательский тегов проведем лемматизацию и создадим словарь индексов. Так как большинство тегов однословны, нет смысла проводить какую либо токенизацию или использовать предобученную токенизацию."
   ]
  },
  {
   "cell_type": "code",
   "execution_count": 110,
   "id": "097cc9f7",
   "metadata": {},
   "outputs": [
    {
     "data": {
      "text/html": [
       "<div>\n",
       "<style scoped>\n",
       "    .dataframe tbody tr th:only-of-type {\n",
       "        vertical-align: middle;\n",
       "    }\n",
       "\n",
       "    .dataframe tbody tr th {\n",
       "        vertical-align: top;\n",
       "    }\n",
       "\n",
       "    .dataframe thead th {\n",
       "        text-align: right;\n",
       "    }\n",
       "</style>\n",
       "<table border=\"1\" class=\"dataframe\">\n",
       "  <thead>\n",
       "    <tr style=\"text-align: right;\">\n",
       "      <th></th>\n",
       "      <th>userId</th>\n",
       "      <th>movieId</th>\n",
       "      <th>tag</th>\n",
       "      <th>timestamp</th>\n",
       "    </tr>\n",
       "  </thead>\n",
       "  <tbody>\n",
       "    <tr>\n",
       "      <th>0</th>\n",
       "      <td>14</td>\n",
       "      <td>110</td>\n",
       "      <td>epic</td>\n",
       "      <td>1443148538</td>\n",
       "    </tr>\n",
       "    <tr>\n",
       "      <th>1</th>\n",
       "      <td>14</td>\n",
       "      <td>110</td>\n",
       "      <td>Medieval</td>\n",
       "      <td>1443148532</td>\n",
       "    </tr>\n",
       "    <tr>\n",
       "      <th>2</th>\n",
       "      <td>14</td>\n",
       "      <td>260</td>\n",
       "      <td>sci-fi</td>\n",
       "      <td>1442169410</td>\n",
       "    </tr>\n",
       "    <tr>\n",
       "      <th>3</th>\n",
       "      <td>14</td>\n",
       "      <td>260</td>\n",
       "      <td>space action</td>\n",
       "      <td>1442169421</td>\n",
       "    </tr>\n",
       "    <tr>\n",
       "      <th>4</th>\n",
       "      <td>14</td>\n",
       "      <td>318</td>\n",
       "      <td>imdb top 250</td>\n",
       "      <td>1442615195</td>\n",
       "    </tr>\n",
       "  </tbody>\n",
       "</table>\n",
       "</div>"
      ],
      "text/plain": [
       "   userId  movieId           tag   timestamp\n",
       "0      14      110          epic  1443148538\n",
       "1      14      110      Medieval  1443148532\n",
       "2      14      260        sci-fi  1442169410\n",
       "3      14      260  space action  1442169421\n",
       "4      14      318  imdb top 250  1442615195"
      ]
     },
     "execution_count": 110,
     "metadata": {},
     "output_type": "execute_result"
    }
   ],
   "source": [
    "tags.head()"
   ]
  },
  {
   "cell_type": "markdown",
   "id": "9617c9fb",
   "metadata": {},
   "source": [
    "Удалим пропущенные теги"
   ]
  },
  {
   "cell_type": "code",
   "execution_count": 111,
   "id": "3d32be93",
   "metadata": {},
   "outputs": [
    {
     "data": {
      "text/plain": [
       "userId        0\n",
       "movieId       0\n",
       "tag          16\n",
       "timestamp     0\n",
       "dtype: int64"
      ]
     },
     "execution_count": 111,
     "metadata": {},
     "output_type": "execute_result"
    }
   ],
   "source": [
    "tags.isna().sum()"
   ]
  },
  {
   "cell_type": "code",
   "execution_count": 112,
   "id": "94c8b8b1",
   "metadata": {},
   "outputs": [],
   "source": [
    "tags.dropna(inplace=True)"
   ]
  },
  {
   "cell_type": "code",
   "execution_count": 113,
   "id": "24a79691",
   "metadata": {},
   "outputs": [
    {
     "data": {
      "text/plain": [
       "userId       0\n",
       "movieId      0\n",
       "tag          0\n",
       "timestamp    0\n",
       "dtype: int64"
      ]
     },
     "execution_count": 113,
     "metadata": {},
     "output_type": "execute_result"
    }
   ],
   "source": [
    "tags.isna().sum()"
   ]
  },
  {
   "cell_type": "code",
   "execution_count": 114,
   "id": "33a1be1b",
   "metadata": {},
   "outputs": [
    {
     "name": "stdout",
     "output_type": "stream",
     "text": [
      "<class 'pandas.core.frame.DataFrame'>\n",
      "Int64Index: 1108981 entries, 0 to 1108996\n",
      "Data columns (total 4 columns):\n",
      " #   Column     Non-Null Count    Dtype \n",
      "---  ------     --------------    ----- \n",
      " 0   userId     1108981 non-null  int64 \n",
      " 1   movieId    1108981 non-null  int64 \n",
      " 2   tag        1108981 non-null  object\n",
      " 3   timestamp  1108981 non-null  int64 \n",
      "dtypes: int64(3), object(1)\n",
      "memory usage: 42.3+ MB\n"
     ]
    }
   ],
   "source": [
    "tags.info()"
   ]
  },
  {
   "cell_type": "markdown",
   "id": "c1eb7782",
   "metadata": {},
   "source": [
    "Переводим колонку тегов из типа object в строки, приводим к нижнему регистру и применяем токенизацию. Затем создаём словарь тегов и сопоставляем с индексами. Оставим нулевой индекс для случаев, когда тег к фильму будет отсутствовать."
   ]
  },
  {
   "cell_type": "code",
   "execution_count": 115,
   "id": "985d39a2",
   "metadata": {},
   "outputs": [],
   "source": [
    "from nltk.stem.snowball import SnowballStemmer"
   ]
  },
  {
   "cell_type": "code",
   "execution_count": 116,
   "id": "ad182b95",
   "metadata": {},
   "outputs": [],
   "source": [
    "stemmer = SnowballStemmer(language=\"english\")\n",
    "tags[\"tag\"] = tags[\"tag\"].astype(str).apply(lambda x: stemmer.stem(x.lower()))"
   ]
  },
  {
   "cell_type": "code",
   "execution_count": 117,
   "id": "50d7ca78",
   "metadata": {},
   "outputs": [
    {
     "data": {
      "text/html": [
       "<div>\n",
       "<style scoped>\n",
       "    .dataframe tbody tr th:only-of-type {\n",
       "        vertical-align: middle;\n",
       "    }\n",
       "\n",
       "    .dataframe tbody tr th {\n",
       "        vertical-align: top;\n",
       "    }\n",
       "\n",
       "    .dataframe thead th {\n",
       "        text-align: right;\n",
       "    }\n",
       "</style>\n",
       "<table border=\"1\" class=\"dataframe\">\n",
       "  <thead>\n",
       "    <tr style=\"text-align: right;\">\n",
       "      <th></th>\n",
       "      <th>userId</th>\n",
       "      <th>movieId</th>\n",
       "      <th>tag</th>\n",
       "      <th>timestamp</th>\n",
       "    </tr>\n",
       "  </thead>\n",
       "  <tbody>\n",
       "    <tr>\n",
       "      <th>0</th>\n",
       "      <td>14</td>\n",
       "      <td>110</td>\n",
       "      <td>1</td>\n",
       "      <td>1443148538</td>\n",
       "    </tr>\n",
       "    <tr>\n",
       "      <th>1</th>\n",
       "      <td>14</td>\n",
       "      <td>110</td>\n",
       "      <td>2</td>\n",
       "      <td>1443148532</td>\n",
       "    </tr>\n",
       "    <tr>\n",
       "      <th>2</th>\n",
       "      <td>14</td>\n",
       "      <td>260</td>\n",
       "      <td>3</td>\n",
       "      <td>1442169410</td>\n",
       "    </tr>\n",
       "    <tr>\n",
       "      <th>3</th>\n",
       "      <td>14</td>\n",
       "      <td>260</td>\n",
       "      <td>4</td>\n",
       "      <td>1442169421</td>\n",
       "    </tr>\n",
       "    <tr>\n",
       "      <th>4</th>\n",
       "      <td>14</td>\n",
       "      <td>318</td>\n",
       "      <td>5</td>\n",
       "      <td>1442615195</td>\n",
       "    </tr>\n",
       "  </tbody>\n",
       "</table>\n",
       "</div>"
      ],
      "text/plain": [
       "   userId  movieId  tag   timestamp\n",
       "0      14      110    1  1443148538\n",
       "1      14      110    2  1443148532\n",
       "2      14      260    3  1442169410\n",
       "3      14      260    4  1442169421\n",
       "4      14      318    5  1442615195"
      ]
     },
     "execution_count": 117,
     "metadata": {},
     "output_type": "execute_result"
    }
   ],
   "source": [
    "unique_tags = tags[\"tag\"].unique()\n",
    "tags_to_idx = {t: i+1 for i, t in enumerate(unique_tags)}\n",
    "tags[\"tag\"] = tags[\"tag\"].map(tags_to_idx)\n",
    "tags.head()"
   ]
  },
  {
   "cell_type": "markdown",
   "id": "e698a288",
   "metadata": {},
   "source": [
    "Сохраним результат в pd.Series, где каждому индексу фильма будет соответстовать набор индексов пользовательских тегов."
   ]
  },
  {
   "cell_type": "code",
   "execution_count": 118,
   "id": "4715fafa",
   "metadata": {},
   "outputs": [],
   "source": [
    "tags_concatenated = tags.groupby(\"movieId\")[\"tag\"].agg(list)"
   ]
  },
  {
   "cell_type": "code",
   "execution_count": 119,
   "id": "cd46ae25",
   "metadata": {},
   "outputs": [
    {
     "data": {
      "text/plain": [
       "movieId\n",
       "1    [91, 1008, 1009, 1010, 60, 1011, 496, 873, 206...\n",
       "2    [275, 1138, 91, 1724, 783, 4153, 4154, 503, 41...\n",
       "3    [9981, 5216, 10437, 7155, 5410, 4380, 655, 104...\n",
       "4    [2953, 13305, 2953, 443, 15740, 443, 1243, 243...\n",
       "5    [4638, 4638, 1238, 1405, 1323, 2167, 22148, 27...\n",
       "Name: tag, dtype: object"
      ]
     },
     "execution_count": 119,
     "metadata": {},
     "output_type": "execute_result"
    }
   ],
   "source": [
    "tags_concatenated.head()"
   ]
  },
  {
   "cell_type": "markdown",
   "id": "76c8dffb",
   "metadata": {},
   "source": [
    "У фильмов может быть несколько одинаковых тегов, но не будем это исправлять. Это поможет получить более точное представление фильмов."
   ]
  },
  {
   "cell_type": "markdown",
   "id": "08befc5c",
   "metadata": {},
   "source": [
    "Полученные наборы индексов тегов добавим в датафрейм с информацией про фильмы"
   ]
  },
  {
   "cell_type": "code",
   "execution_count": 120,
   "id": "fb151906",
   "metadata": {},
   "outputs": [
    {
     "data": {
      "text/html": [
       "<div>\n",
       "<style scoped>\n",
       "    .dataframe tbody tr th:only-of-type {\n",
       "        vertical-align: middle;\n",
       "    }\n",
       "\n",
       "    .dataframe tbody tr th {\n",
       "        vertical-align: top;\n",
       "    }\n",
       "\n",
       "    .dataframe thead th {\n",
       "        text-align: right;\n",
       "    }\n",
       "</style>\n",
       "<table border=\"1\" class=\"dataframe\">\n",
       "  <thead>\n",
       "    <tr style=\"text-align: right;\">\n",
       "      <th></th>\n",
       "      <th>title</th>\n",
       "      <th>genres</th>\n",
       "    </tr>\n",
       "    <tr>\n",
       "      <th>movieId</th>\n",
       "      <th></th>\n",
       "      <th></th>\n",
       "    </tr>\n",
       "  </thead>\n",
       "  <tbody>\n",
       "    <tr>\n",
       "      <th>1</th>\n",
       "      <td>Toy Story (1995)</td>\n",
       "      <td>Adventure|Animation|Children|Comedy|Fantasy</td>\n",
       "    </tr>\n",
       "    <tr>\n",
       "      <th>2</th>\n",
       "      <td>Jumanji (1995)</td>\n",
       "      <td>Adventure|Children|Fantasy</td>\n",
       "    </tr>\n",
       "    <tr>\n",
       "      <th>3</th>\n",
       "      <td>Grumpier Old Men (1995)</td>\n",
       "      <td>Comedy|Romance</td>\n",
       "    </tr>\n",
       "    <tr>\n",
       "      <th>4</th>\n",
       "      <td>Waiting to Exhale (1995)</td>\n",
       "      <td>Comedy|Drama|Romance</td>\n",
       "    </tr>\n",
       "    <tr>\n",
       "      <th>5</th>\n",
       "      <td>Father of the Bride Part II (1995)</td>\n",
       "      <td>Comedy</td>\n",
       "    </tr>\n",
       "  </tbody>\n",
       "</table>\n",
       "</div>"
      ],
      "text/plain": [
       "                                      title  \\\n",
       "movieId                                       \n",
       "1                          Toy Story (1995)   \n",
       "2                            Jumanji (1995)   \n",
       "3                   Grumpier Old Men (1995)   \n",
       "4                  Waiting to Exhale (1995)   \n",
       "5        Father of the Bride Part II (1995)   \n",
       "\n",
       "                                              genres  \n",
       "movieId                                               \n",
       "1        Adventure|Animation|Children|Comedy|Fantasy  \n",
       "2                         Adventure|Children|Fantasy  \n",
       "3                                     Comedy|Romance  \n",
       "4                               Comedy|Drama|Romance  \n",
       "5                                             Comedy  "
      ]
     },
     "execution_count": 120,
     "metadata": {},
     "output_type": "execute_result"
    }
   ],
   "source": [
    "movies.head()"
   ]
  },
  {
   "cell_type": "code",
   "execution_count": 121,
   "id": "88b7dbe6",
   "metadata": {},
   "outputs": [],
   "source": [
    "movies[\"genres\"] = movies[\"genres\"].apply(lambda x: x.split(\"|\")) #переводим жанры из строк в списки"
   ]
  },
  {
   "cell_type": "code",
   "execution_count": 122,
   "id": "9c3db03f",
   "metadata": {},
   "outputs": [],
   "source": [
    "movies[\"tags\"] = tags_concatenated"
   ]
  },
  {
   "cell_type": "code",
   "execution_count": 123,
   "id": "703bda02",
   "metadata": {},
   "outputs": [
    {
     "data": {
      "text/plain": [
       "title         0\n",
       "genres        0\n",
       "tags      12117\n",
       "dtype: int64"
      ]
     },
     "execution_count": 123,
     "metadata": {},
     "output_type": "execute_result"
    }
   ],
   "source": [
    "movies.isna().sum()"
   ]
  },
  {
   "cell_type": "markdown",
   "id": "b8efa13b",
   "metadata": {},
   "source": [
    "Там, где теги отсутствуют, проставляем нулевые индексы"
   ]
  },
  {
   "cell_type": "code",
   "execution_count": 124,
   "id": "ad1ffbfa",
   "metadata": {},
   "outputs": [],
   "source": [
    "movies[\"tags\"] = movies[\"tags\"].apply(lambda x: [0] if not isinstance(x, list) else x)"
   ]
  },
  {
   "cell_type": "code",
   "execution_count": 125,
   "id": "768cdabe",
   "metadata": {},
   "outputs": [
    {
     "data": {
      "text/html": [
       "<div>\n",
       "<style scoped>\n",
       "    .dataframe tbody tr th:only-of-type {\n",
       "        vertical-align: middle;\n",
       "    }\n",
       "\n",
       "    .dataframe tbody tr th {\n",
       "        vertical-align: top;\n",
       "    }\n",
       "\n",
       "    .dataframe thead th {\n",
       "        text-align: right;\n",
       "    }\n",
       "</style>\n",
       "<table border=\"1\" class=\"dataframe\">\n",
       "  <thead>\n",
       "    <tr style=\"text-align: right;\">\n",
       "      <th></th>\n",
       "      <th>title</th>\n",
       "      <th>genres</th>\n",
       "      <th>tags</th>\n",
       "    </tr>\n",
       "    <tr>\n",
       "      <th>movieId</th>\n",
       "      <th></th>\n",
       "      <th></th>\n",
       "      <th></th>\n",
       "    </tr>\n",
       "  </thead>\n",
       "  <tbody>\n",
       "    <tr>\n",
       "      <th>1</th>\n",
       "      <td>Toy Story (1995)</td>\n",
       "      <td>[Adventure, Animation, Children, Comedy, Fantasy]</td>\n",
       "      <td>[91, 1008, 1009, 1010, 60, 1011, 496, 873, 206...</td>\n",
       "    </tr>\n",
       "    <tr>\n",
       "      <th>2</th>\n",
       "      <td>Jumanji (1995)</td>\n",
       "      <td>[Adventure, Children, Fantasy]</td>\n",
       "      <td>[275, 1138, 91, 1724, 783, 4153, 4154, 503, 41...</td>\n",
       "    </tr>\n",
       "    <tr>\n",
       "      <th>3</th>\n",
       "      <td>Grumpier Old Men (1995)</td>\n",
       "      <td>[Comedy, Romance]</td>\n",
       "      <td>[9981, 5216, 10437, 7155, 5410, 4380, 655, 104...</td>\n",
       "    </tr>\n",
       "    <tr>\n",
       "      <th>4</th>\n",
       "      <td>Waiting to Exhale (1995)</td>\n",
       "      <td>[Comedy, Drama, Romance]</td>\n",
       "      <td>[2953, 13305, 2953, 443, 15740, 443, 1243, 243...</td>\n",
       "    </tr>\n",
       "    <tr>\n",
       "      <th>5</th>\n",
       "      <td>Father of the Bride Part II (1995)</td>\n",
       "      <td>[Comedy]</td>\n",
       "      <td>[4638, 4638, 1238, 1405, 1323, 2167, 22148, 27...</td>\n",
       "    </tr>\n",
       "  </tbody>\n",
       "</table>\n",
       "</div>"
      ],
      "text/plain": [
       "                                      title  \\\n",
       "movieId                                       \n",
       "1                          Toy Story (1995)   \n",
       "2                            Jumanji (1995)   \n",
       "3                   Grumpier Old Men (1995)   \n",
       "4                  Waiting to Exhale (1995)   \n",
       "5        Father of the Bride Part II (1995)   \n",
       "\n",
       "                                                    genres  \\\n",
       "movieId                                                      \n",
       "1        [Adventure, Animation, Children, Comedy, Fantasy]   \n",
       "2                           [Adventure, Children, Fantasy]   \n",
       "3                                        [Comedy, Romance]   \n",
       "4                                 [Comedy, Drama, Romance]   \n",
       "5                                                 [Comedy]   \n",
       "\n",
       "                                                      tags  \n",
       "movieId                                                     \n",
       "1        [91, 1008, 1009, 1010, 60, 1011, 496, 873, 206...  \n",
       "2        [275, 1138, 91, 1724, 783, 4153, 4154, 503, 41...  \n",
       "3        [9981, 5216, 10437, 7155, 5410, 4380, 655, 104...  \n",
       "4        [2953, 13305, 2953, 443, 15740, 443, 1243, 243...  \n",
       "5        [4638, 4638, 1238, 1405, 1323, 2167, 22148, 27...  "
      ]
     },
     "execution_count": 125,
     "metadata": {},
     "output_type": "execute_result"
    }
   ],
   "source": [
    "movies.head()"
   ]
  },
  {
   "cell_type": "markdown",
   "id": "f64f76dd",
   "metadata": {},
   "source": [
    "## Разделение выборки"
   ]
  },
  {
   "cell_type": "markdown",
   "id": "32e600c9",
   "metadata": {},
   "source": [
    "Разделим выборку, содержащую индексы пользователей и проставленные ими рейтинги на 3 части - обучающую, валидационную и тестовую в пропорции 7:2:1. Так как нам нужно создать эмбеддинги для всех пользователей, то все индексы пользователей должны присутствовать в каждой из выборок. Поэтому сгруппируем датафрейм по их индексами и разделение будем проводить внутри полученных групп. Для того, чтобы приблизиться к реальной ситуации, отсортируем строки внутри каждой из групп по времени, старые данные занесем в обучающую выборку, а новые - в валидационную и тестовую "
   ]
  },
  {
   "cell_type": "code",
   "execution_count": 126,
   "id": "d9357ddb",
   "metadata": {},
   "outputs": [
    {
     "data": {
      "text/html": [
       "<div>\n",
       "<style scoped>\n",
       "    .dataframe tbody tr th:only-of-type {\n",
       "        vertical-align: middle;\n",
       "    }\n",
       "\n",
       "    .dataframe tbody tr th {\n",
       "        vertical-align: top;\n",
       "    }\n",
       "\n",
       "    .dataframe thead th {\n",
       "        text-align: right;\n",
       "    }\n",
       "</style>\n",
       "<table border=\"1\" class=\"dataframe\">\n",
       "  <thead>\n",
       "    <tr style=\"text-align: right;\">\n",
       "      <th></th>\n",
       "      <th>userId</th>\n",
       "      <th>movieId</th>\n",
       "      <th>rating</th>\n",
       "      <th>timestamp</th>\n",
       "    </tr>\n",
       "  </thead>\n",
       "  <tbody>\n",
       "    <tr>\n",
       "      <th>0</th>\n",
       "      <td>1</td>\n",
       "      <td>307</td>\n",
       "      <td>3.5</td>\n",
       "      <td>1256677221</td>\n",
       "    </tr>\n",
       "    <tr>\n",
       "      <th>1</th>\n",
       "      <td>1</td>\n",
       "      <td>481</td>\n",
       "      <td>3.5</td>\n",
       "      <td>1256677456</td>\n",
       "    </tr>\n",
       "    <tr>\n",
       "      <th>2</th>\n",
       "      <td>1</td>\n",
       "      <td>1091</td>\n",
       "      <td>1.5</td>\n",
       "      <td>1256677471</td>\n",
       "    </tr>\n",
       "    <tr>\n",
       "      <th>3</th>\n",
       "      <td>1</td>\n",
       "      <td>1257</td>\n",
       "      <td>4.5</td>\n",
       "      <td>1256677460</td>\n",
       "    </tr>\n",
       "    <tr>\n",
       "      <th>4</th>\n",
       "      <td>1</td>\n",
       "      <td>1449</td>\n",
       "      <td>4.5</td>\n",
       "      <td>1256677264</td>\n",
       "    </tr>\n",
       "  </tbody>\n",
       "</table>\n",
       "</div>"
      ],
      "text/plain": [
       "   userId  movieId  rating   timestamp\n",
       "0       1      307     3.5  1256677221\n",
       "1       1      481     3.5  1256677456\n",
       "2       1     1091     1.5  1256677471\n",
       "3       1     1257     4.5  1256677460\n",
       "4       1     1449     4.5  1256677264"
      ]
     },
     "execution_count": 126,
     "metadata": {},
     "output_type": "execute_result"
    }
   ],
   "source": [
    "ratings.head()"
   ]
  },
  {
   "cell_type": "code",
   "execution_count": 127,
   "id": "84488249",
   "metadata": {},
   "outputs": [],
   "source": [
    "#функция для отделения доли выборки в каждой группе\n",
    "def train_test_split(group, train_size):\n",
    "    threshold = int(len(group) * train_size) #определяем пороговое значение для разделения группы\n",
    "    return group.iloc[:threshold]"
   ]
  },
  {
   "cell_type": "code",
   "execution_count": 128,
   "id": "cb95b403",
   "metadata": {},
   "outputs": [],
   "source": [
    "ratings.sort_values([\"userId\", \"timestamp\"], inplace=True) #сортируем сначала по пользователям, затем по времени\n",
    "                                                           #в порядке возрастания значений\n",
    "train_ratings = ratings.groupby(\"userId\").apply(train_test_split, 0.7).reset_index(drop=True) #отделяем тренировочные данные\n",
    "val_test_ratings = pd.concat([ratings, train_ratings]).drop_duplicates(keep=False).reset_index(drop=True) #остаток заносим\n",
    "                                                                                            #в валидационную и тестовую"
   ]
  },
  {
   "cell_type": "code",
   "execution_count": 129,
   "id": "6d244baf",
   "metadata": {},
   "outputs": [
    {
     "data": {
      "text/html": [
       "<div>\n",
       "<style scoped>\n",
       "    .dataframe tbody tr th:only-of-type {\n",
       "        vertical-align: middle;\n",
       "    }\n",
       "\n",
       "    .dataframe tbody tr th {\n",
       "        vertical-align: top;\n",
       "    }\n",
       "\n",
       "    .dataframe thead th {\n",
       "        text-align: right;\n",
       "    }\n",
       "</style>\n",
       "<table border=\"1\" class=\"dataframe\">\n",
       "  <thead>\n",
       "    <tr style=\"text-align: right;\">\n",
       "      <th></th>\n",
       "      <th>userId</th>\n",
       "      <th>movieId</th>\n",
       "      <th>rating</th>\n",
       "      <th>timestamp</th>\n",
       "    </tr>\n",
       "  </thead>\n",
       "  <tbody>\n",
       "    <tr>\n",
       "      <th>0</th>\n",
       "      <td>1</td>\n",
       "      <td>3826</td>\n",
       "      <td>2.0</td>\n",
       "      <td>1256677210</td>\n",
       "    </tr>\n",
       "    <tr>\n",
       "      <th>1</th>\n",
       "      <td>1</td>\n",
       "      <td>307</td>\n",
       "      <td>3.5</td>\n",
       "      <td>1256677221</td>\n",
       "    </tr>\n",
       "    <tr>\n",
       "      <th>2</th>\n",
       "      <td>1</td>\n",
       "      <td>1590</td>\n",
       "      <td>2.5</td>\n",
       "      <td>1256677236</td>\n",
       "    </tr>\n",
       "    <tr>\n",
       "      <th>3</th>\n",
       "      <td>1</td>\n",
       "      <td>2478</td>\n",
       "      <td>4.0</td>\n",
       "      <td>1256677239</td>\n",
       "    </tr>\n",
       "    <tr>\n",
       "      <th>4</th>\n",
       "      <td>1</td>\n",
       "      <td>3698</td>\n",
       "      <td>3.5</td>\n",
       "      <td>1256677243</td>\n",
       "    </tr>\n",
       "  </tbody>\n",
       "</table>\n",
       "</div>"
      ],
      "text/plain": [
       "   userId  movieId  rating   timestamp\n",
       "0       1     3826     2.0  1256677210\n",
       "1       1      307     3.5  1256677221\n",
       "2       1     1590     2.5  1256677236\n",
       "3       1     2478     4.0  1256677239\n",
       "4       1     3698     3.5  1256677243"
      ]
     },
     "execution_count": 129,
     "metadata": {},
     "output_type": "execute_result"
    }
   ],
   "source": [
    "train_ratings.head()"
   ]
  },
  {
   "cell_type": "code",
   "execution_count": 130,
   "id": "e3e8e8ce",
   "metadata": {},
   "outputs": [],
   "source": [
    "#аналогично, отделяем валидационную выборку от тестовой\n",
    "val_ratings = val_test_ratings.groupby(\"userId\").apply(train_test_split, 2/3).reset_index(drop=True)\n",
    "test_ratings = pd.concat([val_test_ratings, val_ratings]).drop_duplicates(keep=False).reset_index(drop=True)"
   ]
  },
  {
   "cell_type": "code",
   "execution_count": 131,
   "id": "f4942053",
   "metadata": {},
   "outputs": [
    {
     "data": {
      "text/html": [
       "<div>\n",
       "<style scoped>\n",
       "    .dataframe tbody tr th:only-of-type {\n",
       "        vertical-align: middle;\n",
       "    }\n",
       "\n",
       "    .dataframe tbody tr th {\n",
       "        vertical-align: top;\n",
       "    }\n",
       "\n",
       "    .dataframe thead th {\n",
       "        text-align: right;\n",
       "    }\n",
       "</style>\n",
       "<table border=\"1\" class=\"dataframe\">\n",
       "  <thead>\n",
       "    <tr style=\"text-align: right;\">\n",
       "      <th></th>\n",
       "      <th>userId</th>\n",
       "      <th>movieId</th>\n",
       "      <th>rating</th>\n",
       "      <th>timestamp</th>\n",
       "    </tr>\n",
       "  </thead>\n",
       "  <tbody>\n",
       "    <tr>\n",
       "      <th>0</th>\n",
       "      <td>1</td>\n",
       "      <td>1091</td>\n",
       "      <td>1.5</td>\n",
       "      <td>1256677471</td>\n",
       "    </tr>\n",
       "    <tr>\n",
       "      <th>1</th>\n",
       "      <td>1</td>\n",
       "      <td>1591</td>\n",
       "      <td>1.5</td>\n",
       "      <td>1256677475</td>\n",
       "    </tr>\n",
       "    <tr>\n",
       "      <th>2</th>\n",
       "      <td>1</td>\n",
       "      <td>3893</td>\n",
       "      <td>3.5</td>\n",
       "      <td>1256677486</td>\n",
       "    </tr>\n",
       "    <tr>\n",
       "      <th>3</th>\n",
       "      <td>2</td>\n",
       "      <td>3363</td>\n",
       "      <td>4.0</td>\n",
       "      <td>1192913596</td>\n",
       "    </tr>\n",
       "    <tr>\n",
       "      <th>4</th>\n",
       "      <td>2</td>\n",
       "      <td>2707</td>\n",
       "      <td>3.5</td>\n",
       "      <td>1192913600</td>\n",
       "    </tr>\n",
       "  </tbody>\n",
       "</table>\n",
       "</div>"
      ],
      "text/plain": [
       "   userId  movieId  rating   timestamp\n",
       "0       1     1091     1.5  1256677471\n",
       "1       1     1591     1.5  1256677475\n",
       "2       1     3893     3.5  1256677486\n",
       "3       2     3363     4.0  1192913596\n",
       "4       2     2707     3.5  1192913600"
      ]
     },
     "execution_count": 131,
     "metadata": {},
     "output_type": "execute_result"
    }
   ],
   "source": [
    "val_ratings.head()"
   ]
  },
  {
   "cell_type": "code",
   "execution_count": 132,
   "id": "eed083eb",
   "metadata": {},
   "outputs": [
    {
     "data": {
      "text/html": [
       "<div>\n",
       "<style scoped>\n",
       "    .dataframe tbody tr th:only-of-type {\n",
       "        vertical-align: middle;\n",
       "    }\n",
       "\n",
       "    .dataframe tbody tr th {\n",
       "        vertical-align: top;\n",
       "    }\n",
       "\n",
       "    .dataframe thead th {\n",
       "        text-align: right;\n",
       "    }\n",
       "</style>\n",
       "<table border=\"1\" class=\"dataframe\">\n",
       "  <thead>\n",
       "    <tr style=\"text-align: right;\">\n",
       "      <th></th>\n",
       "      <th>userId</th>\n",
       "      <th>movieId</th>\n",
       "      <th>rating</th>\n",
       "      <th>timestamp</th>\n",
       "    </tr>\n",
       "  </thead>\n",
       "  <tbody>\n",
       "    <tr>\n",
       "      <th>0</th>\n",
       "      <td>1</td>\n",
       "      <td>2986</td>\n",
       "      <td>2.5</td>\n",
       "      <td>1256677496</td>\n",
       "    </tr>\n",
       "    <tr>\n",
       "      <th>1</th>\n",
       "      <td>1</td>\n",
       "      <td>2840</td>\n",
       "      <td>3.0</td>\n",
       "      <td>1256677500</td>\n",
       "    </tr>\n",
       "    <tr>\n",
       "      <th>2</th>\n",
       "      <td>2</td>\n",
       "      <td>1296</td>\n",
       "      <td>4.5</td>\n",
       "      <td>1192913608</td>\n",
       "    </tr>\n",
       "    <tr>\n",
       "      <th>3</th>\n",
       "      <td>2</td>\n",
       "      <td>1186</td>\n",
       "      <td>3.5</td>\n",
       "      <td>1192913611</td>\n",
       "    </tr>\n",
       "    <tr>\n",
       "      <th>4</th>\n",
       "      <td>3</td>\n",
       "      <td>2024</td>\n",
       "      <td>3.0</td>\n",
       "      <td>945141611</td>\n",
       "    </tr>\n",
       "  </tbody>\n",
       "</table>\n",
       "</div>"
      ],
      "text/plain": [
       "   userId  movieId  rating   timestamp\n",
       "0       1     2986     2.5  1256677496\n",
       "1       1     2840     3.0  1256677500\n",
       "2       2     1296     4.5  1192913608\n",
       "3       2     1186     3.5  1192913611\n",
       "4       3     2024     3.0   945141611"
      ]
     },
     "execution_count": 132,
     "metadata": {},
     "output_type": "execute_result"
    }
   ],
   "source": [
    "test_ratings.head()"
   ]
  },
  {
   "cell_type": "code",
   "execution_count": 133,
   "id": "1b1b2121",
   "metadata": {},
   "outputs": [
    {
     "data": {
      "text/plain": [
       "(19299130, 5548657, 2905657)"
      ]
     },
     "execution_count": 133,
     "metadata": {},
     "output_type": "execute_result"
    }
   ],
   "source": [
    "train_ratings.shape[0], val_ratings.shape[0], test_ratings.shape[0]"
   ]
  },
  {
   "cell_type": "code",
   "execution_count": 134,
   "id": "c112497a",
   "metadata": {},
   "outputs": [
    {
     "data": {
      "text/plain": [
       "(27753444, 4)"
      ]
     },
     "execution_count": 134,
     "metadata": {},
     "output_type": "execute_result"
    }
   ],
   "source": [
    "ratings.shape"
   ]
  },
  {
   "cell_type": "markdown",
   "id": "be3884a4",
   "metadata": {},
   "source": [
    "Получили нужные пропорции"
   ]
  },
  {
   "cell_type": "markdown",
   "id": "257a381c",
   "metadata": {},
   "source": [
    "При инициализации также закодируем жанры фильмов. Для жанров не требуется предварительной обработки, так как их мало и они все разные. Их перечень есть в документации датасета, выпишем его сюда и создадим словарь"
   ]
  },
  {
   "cell_type": "code",
   "execution_count": 135,
   "id": "f3f74e2f",
   "metadata": {},
   "outputs": [],
   "source": [
    "genres = [\n",
    "    \"(no genres listed)\",\n",
    "    \"Action\", \n",
    "    \"Adventure\", \n",
    "    \"Animation\", \n",
    "    \"Children\", \n",
    "    \"Comedy\", \n",
    "    \"Crime\", \n",
    "    \"Documentary\", \n",
    "    \"Drama\", \n",
    "    \"Fantasy\", \n",
    "    \"Film-Noir\", \n",
    "    \"Horror\",\n",
    "    \"Musical\",\n",
    "    \"Mystery\",\n",
    "    \"Romance\",\n",
    "    \"Sci-Fi\",\n",
    "    \"Thriller\",\n",
    "    \"War\",\n",
    "    \"Western\",\n",
    "    \"IMAX\"\n",
    "]\n",
    "genres_to_idx = {genre: index for index, genre in enumerate(genres)}"
   ]
  },
  {
   "cell_type": "markdown",
   "id": "6a259457",
   "metadata": {},
   "source": [
    "## Создание датасета"
   ]
  },
  {
   "cell_type": "markdown",
   "id": "5b697cac",
   "metadata": {},
   "source": [
    "Внутри батча будут содержаться все описанные выше признаки. Создавать батч будем следующим образом: по полученному индексу обращаемся к таблице с пользователями, фильмами и оценками, из нее получаем индекс фильма и используем его для получения всех остальных признаков во второй таблице.\n",
    "\n",
    "Так как мы оперерируем тензорами, то внутри батча будем добавлять паддинги из нулей. Нули как раз подходят, так как до этого мы обозначали ими отсутствие тегов или неуказанный жанр."
   ]
  },
  {
   "cell_type": "code",
   "execution_count": 136,
   "id": "c111fdad",
   "metadata": {},
   "outputs": [],
   "source": [
    "class MovieDataset(Dataset):\n",
    "    def __init__(self, movies_data, user_data, relevance_data):\n",
    "        self.user_idx = user_data[\"userId\"]\n",
    "        self.ratings = user_data[\"rating\"]\n",
    "        self.movie_idx = user_data[\"movieId\"]\n",
    "        self.tag_idx = movies_data[\"tags\"]\n",
    "        self.genre_idx = movies_data[\"genres\"].apply(lambda x: [genres_to_idx[genre] for genre in x]) #кодируем жанры по словарю\n",
    "        self.relevances = relevance_data\n",
    "    \n",
    "    def __getitem__(self, index):\n",
    "        user_id = self.user_idx[index]\n",
    "        rating = self.ratings[index]\n",
    "        movie_id = self.movie_idx[index]\n",
    "        tags = torch.Tensor(self.tag_idx[movie_id]).int()\n",
    "        genres = torch.Tensor(self.genre_idx[movie_id]).int()\n",
    "        relevance = torch.Tensor(self.relevances[self.relevances[\"movieId\"] == movie_id][\"relevance\"].values)\n",
    "        return tags, genres, user_id, rating, relevance, index\n",
    "    \n",
    "    def __len__(self):\n",
    "        return self.user_idx.shape[0]\n",
    "    \n",
    "    def collate_function(self, batch):\n",
    "        tags, genres, user_id, rating, relevance, index = zip(*batch)\n",
    "        batched_tags = pad_sequence(tags, batch_first=True, padding_value=0)\n",
    "        batched_genres = pad_sequence(genres, batch_first=True, padding_value=0)\n",
    "        user_id = torch.Tensor(user_id).int()\n",
    "        rating = torch.Tensor(rating).int()\n",
    "        relevance = pad_sequence(relevance, batch_first=True, padding_value=0.0)\n",
    "        return {\n",
    "            \"user_id\": user_id, \n",
    "            \"tags\": batched_tags,\n",
    "            \"genres\": batched_genres, \n",
    "            \"rating\": rating, \n",
    "            \"relevance\": relevance,\n",
    "            \"index\": index}"
   ]
  },
  {
   "cell_type": "markdown",
   "id": "3939b5d3",
   "metadata": {},
   "source": [
    "Создаем даталоадеры, объекты перемешиваем с фиксированной случайностью"
   ]
  },
  {
   "cell_type": "code",
   "execution_count": 137,
   "id": "0eb20be3",
   "metadata": {},
   "outputs": [],
   "source": [
    "torch.manual_seed(42)\n",
    "batch_size = 64\n",
    "\n",
    "train_dataset = MovieDataset(movies, train_ratings, genome_scores)\n",
    "train_dataloader = DataLoader(\n",
    "    train_dataset, \n",
    "    batch_size=batch_size, \n",
    "    collate_fn=train_dataset.collate_function,\n",
    "    shuffle=True,\n",
    ")\n",
    "\n",
    "val_dataset = MovieDataset(movies, val_ratings, genome_scores)\n",
    "val_dataloader = DataLoader(\n",
    "    val_dataset,\n",
    "    batch_size=batch_size,\n",
    "    collate_fn=val_dataset.collate_function,\n",
    "    shuffle=True,\n",
    ")\n",
    "\n",
    "test_dataset = MovieDataset(movies, test_ratings, genome_scores)\n",
    "test_dataloader = DataLoader(\n",
    "    test_dataset,\n",
    "    batch_size=batch_size,\n",
    "    collate_fn=val_dataset.collate_function,\n",
    "    shuffle=True,\n",
    ")"
   ]
  },
  {
   "cell_type": "markdown",
   "id": "99714557",
   "metadata": {},
   "source": [
    "## Обучение"
   ]
  },
  {
   "cell_type": "markdown",
   "id": "0786ce96",
   "metadata": {},
   "source": [
    "Как было описано в начале, наша модель будет создавать эмбеддинги фильмов по их признакам и эмбеддинги пользователям по индексам. Затем мы будем считать косинусное сходство между двумя полученными эмбеддингами и на его основе вычислять лосс, о котором будет написано дальше.\n",
    "\n",
    "Для получения эмбеддингов фильмов воспользуемся тремя простыми nn.Embedding(), каждый из которых будет создавать векторные представления пользовательских тегов, жанров и фиксированных тегов соответственно. Далее полученные эмбеддинги сконкатенируем, пропустим через линейный слой, чтобы привести к размерности эмбеддинга пользователя, и вычислим лосс. Эмбеддинги пользователя также будем строить с помощью nn.Embedding().\n",
    "\n",
    "Можно было попробовать закодировать признаки и по-другому - например, с помощью предобученной модели BERT или обучить свой TransformerEncoder. Но предобученная модель кажется слишком избыточной для такой задачи, так как нам особо не нужны точные смысловые представления тегов и жанров. А трансформерные архитектуры все-таки больше подходят для более длинных последовательностей, и тоже могли оказаться избытычными. В нашем случае наши признаки однословные и ни теги, ни жанры друг с другом не так сильно связаны, чтобы образовывать какой-то контекст."
   ]
  },
  {
   "cell_type": "code",
   "execution_count": 138,
   "id": "4a4372c3",
   "metadata": {},
   "outputs": [],
   "source": [
    "class MovieModel(nn.Module):\n",
    "    def __init__(self, tag_vocab_size, genre_vocab_size, user_vocab_size, embedding_dim, other_tags, batch_size):\n",
    "        super(MovieModel, self).__init__()\n",
    "        \n",
    "        self.other_tags = other_tags.repeat(batch_size, 1) #набор фиксированных тегов, соответствующий числу сэмплов в батче\n",
    "        \n",
    "        self.tag_embedder = nn.Embedding(tag_vocab_size, embedding_dim, padding_idx=0) #эмбеддер пользовательских тегов\n",
    "        self.genre_embedder = nn.Embedding(genre_vocab_size, embedding_dim, padding_idx=0) #эмбеддер жанров\n",
    "        self.user_embedder = nn.Embedding(user_vocab_size, embedding_dim) #эмбеддер пользовательских индексов\n",
    "        self.other_tag_embedder = nn.Embedding(len(other_tags), embedding_dim, padding_idx=0) #эмбеддер фиксированных тегов\n",
    "        \n",
    "        self.fc = nn.Linear(3 * embedding_dim, embedding_dim)\n",
    "        \n",
    "    def forward(self, input_batch):\n",
    "        tag_emb = torch.mean(self.tag_embedder(input_batch[\"tags\"]), dim=1)\n",
    "        genre_emb = torch.mean(self.genre_embedder(input_batch[\"genres\"]), dim=1)\n",
    "        other_tag_emb = torch.mean(\n",
    "            input_batch[\"relevance\"].unsqueeze(-1) * self.other_tag_embedder(self.other_tags), dim=1\n",
    "        ) #здесь мы умножаем каждое представление фиксированных тегов на соответствующие коэффициенты релевантности\n",
    "        \n",
    "        tag_genre_emb = torch.cat((tag_emb, genre_emb, other_tag_emb), dim=1) #конкатенируем полученные эмбеддинги\n",
    "        movie_emb = self.fc(tag_genre_emb) #получаем эмбеддинг фильма\n",
    "        \n",
    "        user_emb = self.user_embedder(input_batch[\"user_id\"])\n",
    "        \n",
    "        return user_emb, movie_emb"
   ]
  },
  {
   "cell_type": "markdown",
   "id": "cac91acd",
   "metadata": {},
   "source": [
    "Чтобы получить лосс, сначала посчитаем косинусное сходство между векторами, затем переведем его в диапазон от 0 до 5. Затем вычислим сам лосс - Root mean squared error между оценкой пользователя и полученным значением сходства. Я выбрал RMSE, так как его среднее значение можно использовать в качестве интерпретируемой метрики на валидации - будет понятно, на сколько баллов наша предсказанная оценка будет отклоняться от истинной в среднем."
   ]
  },
  {
   "cell_type": "code",
   "execution_count": 139,
   "id": "2ed42434",
   "metadata": {},
   "outputs": [],
   "source": [
    "def compute_loss(user_emb, movie_emb, rating):\n",
    "    cos_sim = nn.CosineSimilarity(dim=1)\n",
    "    \n",
    "    sim_norm = (cos_sim(user_emb, movie_emb) + 1) * 5 #переводим из диапазона [-1, 1] в [0, 5]\n",
    "    rmse_loss = torch.sqrt(torch.mean((sim_norm - rating) ** 2))\n",
    "    \n",
    "    return rmse_loss"
   ]
  },
  {
   "cell_type": "code",
   "execution_count": null,
   "id": "9b1d9f85",
   "metadata": {},
   "outputs": [],
   "source": [
    "embedding_dim = 100\n",
    "lr = 1e-5\n",
    "epochs = 5\n",
    "\n",
    "model = MovieModel(\n",
    "    unique_tags.shape[0]+1, \n",
    "    len(genres), \n",
    "    ratings[\"userId\"].unique().shape[0]+1, \n",
    "    embedding_dim, \n",
    "    other_tags, \n",
    "    batch_size\n",
    ")\n",
    "model.to(device)\n",
    "\n",
    "optimizer = AdamW(model.parameters(), lr)\n",
    "\n",
    "pbar = tqdm(total=len(train_dataloader)*epochs)\n",
    "\n",
    "num_iter = 1\n",
    "val_every = 1000 #каждые val_every итераций будем проводить валидацию\n",
    "\n",
    "for epoch in range(epochs):\n",
    "    for batch in train_dataloader:\n",
    "        model.train()\n",
    "\n",
    "        for key, val in batch.items(): #переводим все тензоры на устройство вычислений\n",
    "            if key != \"index\":\n",
    "                batch[key] = val.to(device)\n",
    "\n",
    "        optimizer.zero_grad()\n",
    "\n",
    "        user_emb, movie_emb = model(batch)\n",
    "        loss = compute_loss(user_emb, movie_emb, batch[\"rating\"])\n",
    "\n",
    "        loss.backward()\n",
    "        optimizer.step()\n",
    "\n",
    "        pbar.desc = f\"Epoch {epoch+1}/{epochs}. Train loss: {round(loss.item(), 3)}\"\n",
    "        pbar.update()\n",
    "        \n",
    "        num_iter += 1\n",
    "        \n",
    "        if num_iter % val_every == 0:\n",
    "            model.eval()\n",
    "            val_loss = 0\n",
    "            \n",
    "            for batch in tqdm(val_dataloader):\n",
    "                for key, val in batch.items():\n",
    "                    if key != \"index\":\n",
    "                        batch[key] = val.to(device)\n",
    "                user_emb, movie_emb = model(batch)\n",
    "                val_loss += compute_loss(user_emb, movie_emb, batch[\"rating\"])\n",
    "                \n",
    "            print(f\"Validation loss: {round(val_loss.item()/len(val_dataloader), 3)}\")\n",
    "                \n",
    "        \n",
    "pbar.close()"
   ]
  },
  {
   "cell_type": "markdown",
   "id": "22f8d6e1",
   "metadata": {},
   "source": [
    "К сожалению, на полном датасете модель будет обучаться слишком долго. Но чтобы показать, что она рабочая и получить какие-то результаты, я приложил файл SMALL_Movie_recommendations.ipynb, где модель работает на коротком датасете. Мне пришлось сделать это в отдельном файле, так как для маленького датасета нет таблиц genome_score и genome_tags, поэтому код нужно было немного изменить. Пожалуйста, посмотрите второй ноутбук для ознакомления с полученными результатами."
   ]
  },
  {
   "cell_type": "code",
   "execution_count": null,
   "id": "1d759c90",
   "metadata": {},
   "outputs": [],
   "source": []
  }
 ],
 "metadata": {
  "kernelspec": {
   "display_name": "VK_task",
   "language": "python",
   "name": "vk_task"
  },
  "language_info": {
   "codemirror_mode": {
    "name": "ipython",
    "version": 3
   },
   "file_extension": ".py",
   "mimetype": "text/x-python",
   "name": "python",
   "nbconvert_exporter": "python",
   "pygments_lexer": "ipython3",
   "version": "3.8.16"
  },
  "varInspector": {
   "cols": {
    "lenName": 16,
    "lenType": 16,
    "lenVar": 40
   },
   "kernels_config": {
    "python": {
     "delete_cmd_postfix": "",
     "delete_cmd_prefix": "del ",
     "library": "var_list.py",
     "varRefreshCmd": "print(var_dic_list())"
    },
    "r": {
     "delete_cmd_postfix": ") ",
     "delete_cmd_prefix": "rm(",
     "library": "var_list.r",
     "varRefreshCmd": "cat(var_dic_list()) "
    }
   },
   "types_to_exclude": [
    "module",
    "function",
    "builtin_function_or_method",
    "instance",
    "_Feature"
   ],
   "window_display": false
  }
 },
 "nbformat": 4,
 "nbformat_minor": 5
}
